{
 "cells": [
  {
   "cell_type": "code",
   "execution_count": 1,
   "metadata": {},
   "outputs": [],
   "source": [
    "import numpy as np\n",
    "import pandas as pd\n",
    "import matplotlib.pyplot as plt\n",
    "from numpy import nan\n",
    "from datetime import datetime\n",
    "from sklearn.metrics import mean_squared_error\n",
    "from sklearn.preprocessing import MinMaxScaler\n",
    "from tensorflow.keras import Sequential\n",
    "from tensorflow.keras.layers import LSTM, Dense\n"
   ]
  },
  {
   "cell_type": "code",
   "execution_count": null,
   "metadata": {},
   "outputs": [],
   "source": []
  },
  {
   "cell_type": "code",
   "execution_count": null,
   "metadata": {},
   "outputs": [],
   "source": []
  },
  {
   "cell_type": "code",
   "execution_count": null,
   "metadata": {},
   "outputs": [],
   "source": []
  },
  {
   "cell_type": "code",
   "execution_count": 9,
   "metadata": {},
   "outputs": [],
   "source": []
  },
  {
   "cell_type": "markdown",
   "metadata": {},
   "source": [
    "Reading Data Sets "
   ]
  },
  {
   "cell_type": "code",
   "execution_count": 17,
   "metadata": {},
   "outputs": [],
   "source": [
    "parse = lambda x: datetime.strptime(x,'%d/%m/%Y %H:%M')\n",
    "data = pd.read_csv('EastLobe_absolute.csv',\n",
    "                parse_dates = True, index_col=0, date_parser=parse,\n",
    "                  low_memory = False)"
   ]
  },
  {
   "cell_type": "code",
   "execution_count": 18,
   "metadata": {},
   "outputs": [
    {
     "data": {
      "text/html": [
       "<div>\n",
       "<style scoped>\n",
       "    .dataframe tbody tr th:only-of-type {\n",
       "        vertical-align: middle;\n",
       "    }\n",
       "\n",
       "    .dataframe tbody tr th {\n",
       "        vertical-align: top;\n",
       "    }\n",
       "\n",
       "    .dataframe thead th {\n",
       "        text-align: right;\n",
       "    }\n",
       "</style>\n",
       "<table border=\"1\" class=\"dataframe\">\n",
       "  <thead>\n",
       "    <tr style=\"text-align: right;\">\n",
       "      <th></th>\n",
       "      <th>PIEZOMETER_VALUE</th>\n",
       "    </tr>\n",
       "    <tr>\n",
       "      <th>TIMESTAMP</th>\n",
       "      <th></th>\n",
       "    </tr>\n",
       "  </thead>\n",
       "  <tbody>\n",
       "    <tr>\n",
       "      <th>2015-01-01 00:00:00</th>\n",
       "      <td>1.6342</td>\n",
       "    </tr>\n",
       "    <tr>\n",
       "      <th>2015-01-01 00:30:00</th>\n",
       "      <td>1.6433</td>\n",
       "    </tr>\n",
       "    <tr>\n",
       "      <th>2015-01-01 01:00:00</th>\n",
       "      <td>1.6384</td>\n",
       "    </tr>\n",
       "    <tr>\n",
       "      <th>2015-01-01 01:30:00</th>\n",
       "      <td>1.6318</td>\n",
       "    </tr>\n",
       "    <tr>\n",
       "      <th>2015-01-01 02:00:00</th>\n",
       "      <td>1.6340</td>\n",
       "    </tr>\n",
       "  </tbody>\n",
       "</table>\n",
       "</div>"
      ],
      "text/plain": [
       "                      PIEZOMETER_VALUE\n",
       "TIMESTAMP                             \n",
       "2015-01-01 00:00:00             1.6342\n",
       "2015-01-01 00:30:00             1.6433\n",
       "2015-01-01 01:00:00             1.6384\n",
       "2015-01-01 01:30:00             1.6318\n",
       "2015-01-01 02:00:00             1.6340"
      ]
     },
     "execution_count": 18,
     "metadata": {},
     "output_type": "execute_result"
    }
   ],
   "source": [
    "parse = lambda x: datetime.strptime(x,'%d/%m/%Y %H:%M')\n",
    "data1 = pd.read_csv('WestLobe_absolute.csv',\n",
    "                  parse_dates = True, index_col=0, date_parser=parse,\n",
    "                  low_memory = False)\n",
    "data1.head()"
   ]
  },
  {
   "cell_type": "code",
   "execution_count": 20,
   "metadata": {},
   "outputs": [
    {
     "data": {
      "text/plain": [
       " PIEZOMETER_VALUE    28443\n",
       "dtype: int64"
      ]
     },
     "execution_count": 20,
     "metadata": {},
     "output_type": "execute_result"
    }
   ],
   "source": [
    "np.isnan(data).sum()"
   ]
  },
  {
   "cell_type": "code",
   "execution_count": 21,
   "metadata": {},
   "outputs": [
    {
     "data": {
      "text/plain": [
       "(87648, 1)"
      ]
     },
     "execution_count": 21,
     "metadata": {},
     "output_type": "execute_result"
    }
   ],
   "source": [
    "data.shape"
   ]
  },
  {
   "cell_type": "markdown",
   "metadata": {},
   "source": [
    "# Filling in the missing values using interpolation."
   ]
  },
  {
   "cell_type": "code",
   "execution_count": 22,
   "metadata": {},
   "outputs": [
    {
     "name": "stdout",
     "output_type": "stream",
     "text": [
      "                      PIEZOMETER_VALUE\n",
      "TIMESTAMP                             \n",
      "2015-01-01 00:00:00             1.7168\n",
      "2015-01-01 00:30:00             1.7226\n",
      "2015-01-01 01:00:00             1.7166\n",
      "2015-01-01 01:30:00             1.7189\n",
      "2015-01-01 02:00:00             1.7158\n",
      "...                                ...\n",
      "2019-12-31 21:30:00             1.1489\n",
      "2019-12-31 22:00:00             1.1532\n",
      "2019-12-31 22:30:00             1.1528\n",
      "2019-12-31 23:00:00             1.1545\n",
      "2019-12-31 23:30:00             1.1555\n",
      "\n",
      "[87648 rows x 1 columns]\n"
     ]
    }
   ],
   "source": [
    "\n",
    "interpolated = data.interpolate(method='linear',limit_direction ='backward')\n",
    "print(interpolated)"
   ]
  },
  {
   "cell_type": "code",
   "execution_count": 23,
   "metadata": {},
   "outputs": [
    {
     "name": "stdout",
     "output_type": "stream",
     "text": [
      "                      PIEZOMETER_VALUE\n",
      "TIMESTAMP                             \n",
      "2015-01-01 00:00:00             1.6342\n",
      "2015-01-01 00:30:00             1.6433\n",
      "2015-01-01 01:00:00             1.6384\n",
      "2015-01-01 01:30:00             1.6318\n",
      "2015-01-01 02:00:00             1.6340\n",
      "...                                ...\n",
      "2019-12-31 21:30:00            -0.0308\n",
      "2019-12-31 22:00:00            -0.0297\n",
      "2019-12-31 22:30:00            -0.0313\n",
      "2019-12-31 23:00:00            -0.0302\n",
      "2019-12-31 23:30:00            -0.0302\n",
      "\n",
      "[87648 rows x 1 columns]\n"
     ]
    }
   ],
   "source": [
    "interpolated1 = data1.interpolate(method='linear',limit_direction ='backward')\n",
    "print(interpolated1)"
   ]
  },
  {
   "cell_type": "code",
   "execution_count": 24,
   "metadata": {},
   "outputs": [
    {
     "name": "stdout",
     "output_type": "stream",
     "text": [
      " PIEZOMETER_VALUE    0\n",
      "dtype: int64\n",
      "/n\n",
      " PIEZOMETER_VALUE    0\n",
      "dtype: int64\n"
     ]
    }
   ],
   "source": [
    "print(np.isnan(interpolated).sum())\n",
    "print(\"/n\")\n",
    "print(np.isnan(interpolated1).sum())"
   ]
  },
  {
   "cell_type": "markdown",
   "metadata": {},
   "source": [
    "### Resampling the time series data based on daily frequency 'D' indicates a day"
   ]
  },
  {
   "cell_type": "code",
   "execution_count": 25,
   "metadata": {},
   "outputs": [],
   "source": [
    "upsampled = interpolated.resample('D').mean()\n",
    "upsampled1 = interpolated1.resample('D').mean()"
   ]
  },
  {
   "cell_type": "code",
   "execution_count": 26,
   "metadata": {},
   "outputs": [
    {
     "data": {
      "text/html": [
       "<div>\n",
       "<style scoped>\n",
       "    .dataframe tbody tr th:only-of-type {\n",
       "        vertical-align: middle;\n",
       "    }\n",
       "\n",
       "    .dataframe tbody tr th {\n",
       "        vertical-align: top;\n",
       "    }\n",
       "\n",
       "    .dataframe thead th {\n",
       "        text-align: right;\n",
       "    }\n",
       "</style>\n",
       "<table border=\"1\" class=\"dataframe\">\n",
       "  <thead>\n",
       "    <tr style=\"text-align: right;\">\n",
       "      <th></th>\n",
       "      <th>PIEZOMETER_VALUE</th>\n",
       "    </tr>\n",
       "    <tr>\n",
       "      <th>TIMESTAMP</th>\n",
       "      <th></th>\n",
       "    </tr>\n",
       "  </thead>\n",
       "  <tbody>\n",
       "    <tr>\n",
       "      <th>2015-01-01</th>\n",
       "      <td>1.715942</td>\n",
       "    </tr>\n",
       "    <tr>\n",
       "      <th>2015-01-02</th>\n",
       "      <td>1.709665</td>\n",
       "    </tr>\n",
       "  </tbody>\n",
       "</table>\n",
       "</div>"
      ],
      "text/plain": [
       "             PIEZOMETER_VALUE\n",
       "TIMESTAMP                    \n",
       "2015-01-01           1.715942\n",
       "2015-01-02           1.709665"
      ]
     },
     "execution_count": 26,
     "metadata": {},
     "output_type": "execute_result"
    }
   ],
   "source": [
    "upsampled.head(2)"
   ]
  },
  {
   "cell_type": "code",
   "execution_count": 39,
   "metadata": {},
   "outputs": [
    {
     "data": {
      "text/html": [
       "<div>\n",
       "<style scoped>\n",
       "    .dataframe tbody tr th:only-of-type {\n",
       "        vertical-align: middle;\n",
       "    }\n",
       "\n",
       "    .dataframe tbody tr th {\n",
       "        vertical-align: top;\n",
       "    }\n",
       "\n",
       "    .dataframe thead th {\n",
       "        text-align: right;\n",
       "    }\n",
       "</style>\n",
       "<table border=\"1\" class=\"dataframe\">\n",
       "  <thead>\n",
       "    <tr style=\"text-align: right;\">\n",
       "      <th></th>\n",
       "      <th>PIEZOMETER_VALUE</th>\n",
       "    </tr>\n",
       "    <tr>\n",
       "      <th>TIMESTAMP</th>\n",
       "      <th></th>\n",
       "    </tr>\n",
       "  </thead>\n",
       "  <tbody>\n",
       "    <tr>\n",
       "      <th>2015-01-01</th>\n",
       "      <td>1.664029</td>\n",
       "    </tr>\n",
       "    <tr>\n",
       "      <th>2015-01-02</th>\n",
       "      <td>1.525135</td>\n",
       "    </tr>\n",
       "  </tbody>\n",
       "</table>\n",
       "</div>"
      ],
      "text/plain": [
       "             PIEZOMETER_VALUE\n",
       "TIMESTAMP                    \n",
       "2015-01-01           1.664029\n",
       "2015-01-02           1.525135"
      ]
     },
     "execution_count": 39,
     "metadata": {},
     "output_type": "execute_result"
    }
   ],
   "source": [
    "upsampled1.head(2)"
   ]
  },
  {
   "cell_type": "code",
   "execution_count": 27,
   "metadata": {},
   "outputs": [],
   "source": [
    "upsampled.to_csv('cleanedPZEAST.csv')\n",
    "upsampled1.to_csv('cleanedPZWEST.csv')"
   ]
  },
  {
   "cell_type": "markdown",
   "metadata": {},
   "source": [
    "### Reading cleaned data set "
   ]
  },
  {
   "cell_type": "code",
   "execution_count": 28,
   "metadata": {},
   "outputs": [],
   "source": [
    "df = pd.read_csv('cleanedPZEAST.csv', parse_dates = True, index_col = 'TIMESTAMP', low_memory = False)\n",
    "dw = pd.read_csv('cleanedPZWEST.csv', parse_dates = True, index_col = 'TIMESTAMP', low_memory = False)"
   ]
  },
  {
   "cell_type": "markdown",
   "metadata": {},
   "source": [
    "# Exploratory Data Analytics"
   ]
  },
  {
   "cell_type": "code",
   "execution_count": 33,
   "metadata": {},
   "outputs": [
    {
     "data": {
      "text/plain": [
       "<matplotlib.axes._subplots.AxesSubplot at 0x1a4ca88350>"
      ]
     },
     "execution_count": 33,
     "metadata": {},
     "output_type": "execute_result"
    },
    {
     "data": {
      "image/png": "[encoded data removed]",
      "text/plain": [
       "<Figure size 432x288 with 1 Axes>"
      ]
     },
     "metadata": {
      "needs_background": "light"
     },
     "output_type": "display_data"
    }
   ],
   "source": [
    "dw.plot()"
   ]
  },
  {
   "cell_type": "code",
   "execution_count": 34,
   "metadata": {},
   "outputs": [
    {
     "data": {
      "text/plain": [
       "<matplotlib.axes._subplots.AxesSubplot at 0x1a4d8ec110>"
      ]
     },
     "execution_count": 34,
     "metadata": {},
     "output_type": "execute_result"
    },
    {
     "data": {
      "image/png": "[encoded data removed]",
      "text/plain": [
       "<Figure size 432x288 with 1 Axes>"
      ]
     },
     "metadata": {
      "needs_background": "light"
     },
     "output_type": "display_data"
    }
   ],
   "source": [
    "df.plot()"
   ]
  },
  {
   "cell_type": "markdown",
   "metadata": {},
   "source": [
    "# Plotting the all features in various time stamps"
   ]
  },
  {
   "cell_type": "code",
   "execution_count": 35,
   "metadata": {},
   "outputs": [
    {
     "data": {
      "image/png": "[encoded data removed]",
      "text/plain": [
       "<Figure size 1296x1296 with 1 Axes>"
      ]
     },
     "metadata": {
      "needs_background": "light"
     },
     "output_type": "display_data"
    }
   ],
   "source": [
    "fig, ax = plt.subplots(figsize=(18,18))\n",
    "\n",
    "for i in range(len(df.columns)):\n",
    "    plt.subplot(len(df.columns), 1, i+1)\n",
    "    name = df.columns[i]\n",
    "    plt.plot(df[name])\n",
    "    plt.title(name, y=0, loc = 'right')\n",
    "    plt.yticks([])\n",
    "plt.show()\n",
    "fig.tight_layout()"
   ]
  },
  {
   "cell_type": "markdown",
   "metadata": {},
   "source": []
  },
  {
   "cell_type": "code",
   "execution_count": null,
   "metadata": {},
   "outputs": [],
   "source": []
  },
  {
   "cell_type": "code",
   "execution_count": null,
   "metadata": {},
   "outputs": [],
   "source": []
  },
  {
   "cell_type": "markdown",
   "metadata": {},
   "source": [
    "# Problem Framing:\n"
   ]
  },
  {
   "cell_type": "code",
   "execution_count": 44,
   "metadata": {},
   "outputs": [
    {
     "data": {
      "text/html": [
       "<div>\n",
       "<style scoped>\n",
       "    .dataframe tbody tr th:only-of-type {\n",
       "        vertical-align: middle;\n",
       "    }\n",
       "\n",
       "    .dataframe tbody tr th {\n",
       "        vertical-align: top;\n",
       "    }\n",
       "\n",
       "    .dataframe thead th {\n",
       "        text-align: right;\n",
       "    }\n",
       "</style>\n",
       "<table border=\"1\" class=\"dataframe\">\n",
       "  <thead>\n",
       "    <tr style=\"text-align: right;\">\n",
       "      <th></th>\n",
       "      <th>PIEZOMETER_VALUE</th>\n",
       "    </tr>\n",
       "    <tr>\n",
       "      <th>TIMESTAMP</th>\n",
       "      <th></th>\n",
       "    </tr>\n",
       "  </thead>\n",
       "  <tbody>\n",
       "    <tr>\n",
       "      <th>2015-01-01</th>\n",
       "      <td>1.715942</td>\n",
       "    </tr>\n",
       "    <tr>\n",
       "      <th>2015-01-02</th>\n",
       "      <td>1.709665</td>\n",
       "    </tr>\n",
       "    <tr>\n",
       "      <th>2015-01-03</th>\n",
       "      <td>1.704687</td>\n",
       "    </tr>\n",
       "    <tr>\n",
       "      <th>2015-01-04</th>\n",
       "      <td>1.695610</td>\n",
       "    </tr>\n",
       "    <tr>\n",
       "      <th>2015-01-05</th>\n",
       "      <td>1.684642</td>\n",
       "    </tr>\n",
       "  </tbody>\n",
       "</table>\n",
       "</div>"
      ],
      "text/plain": [
       "             PIEZOMETER_VALUE\n",
       "TIMESTAMP                    \n",
       "2015-01-01           1.715942\n",
       "2015-01-02           1.709665\n",
       "2015-01-03           1.704687\n",
       "2015-01-04           1.695610\n",
       "2015-01-05           1.684642"
      ]
     },
     "execution_count": 44,
     "metadata": {},
     "output_type": "execute_result"
    }
   ],
   "source": [
    "dtrain = df\n",
    "dtrain.head(5)"
   ]
  },
  {
   "cell_type": "code",
   "execution_count": 45,
   "metadata": {},
   "outputs": [
    {
     "data": {
      "text/plain": [
       "(1826, 1)"
      ]
     },
     "execution_count": 45,
     "metadata": {},
     "output_type": "execute_result"
    }
   ],
   "source": [
    "dtrain.shape"
   ]
  },
  {
   "cell_type": "code",
   "execution_count": 46,
   "metadata": {},
   "outputs": [
    {
     "data": {
      "text/html": [
       "<div>\n",
       "<style scoped>\n",
       "    .dataframe tbody tr th:only-of-type {\n",
       "        vertical-align: middle;\n",
       "    }\n",
       "\n",
       "    .dataframe tbody tr th {\n",
       "        vertical-align: top;\n",
       "    }\n",
       "\n",
       "    .dataframe thead th {\n",
       "        text-align: right;\n",
       "    }\n",
       "</style>\n",
       "<table border=\"1\" class=\"dataframe\">\n",
       "  <thead>\n",
       "    <tr style=\"text-align: right;\">\n",
       "      <th></th>\n",
       "      <th>PIEZOMETER_VALUE</th>\n",
       "    </tr>\n",
       "    <tr>\n",
       "      <th>TIMESTAMP</th>\n",
       "      <th></th>\n",
       "    </tr>\n",
       "  </thead>\n",
       "  <tbody>\n",
       "    <tr>\n",
       "      <th>2015-01-01</th>\n",
       "      <td>1.664029</td>\n",
       "    </tr>\n",
       "    <tr>\n",
       "      <th>2015-01-02</th>\n",
       "      <td>1.525135</td>\n",
       "    </tr>\n",
       "    <tr>\n",
       "      <th>2015-01-03</th>\n",
       "      <td>1.341090</td>\n",
       "    </tr>\n",
       "    <tr>\n",
       "      <th>2015-01-04</th>\n",
       "      <td>1.203785</td>\n",
       "    </tr>\n",
       "    <tr>\n",
       "      <th>2015-01-05</th>\n",
       "      <td>1.136883</td>\n",
       "    </tr>\n",
       "  </tbody>\n",
       "</table>\n",
       "</div>"
      ],
      "text/plain": [
       "             PIEZOMETER_VALUE\n",
       "TIMESTAMP                    \n",
       "2015-01-01           1.664029\n",
       "2015-01-02           1.525135\n",
       "2015-01-03           1.341090\n",
       "2015-01-04           1.203785\n",
       "2015-01-05           1.136883"
      ]
     },
     "execution_count": 46,
     "metadata": {},
     "output_type": "execute_result"
    }
   ],
   "source": [
    "dtest = dw\n",
    "dtest.head(5)"
   ]
  },
  {
   "cell_type": "code",
   "execution_count": 210,
   "metadata": {},
   "outputs": [
    {
     "data": {
      "text/plain": [
       "(2703, 9)"
      ]
     },
     "execution_count": 210,
     "metadata": {},
     "output_type": "execute_result"
    }
   ],
   "source": [
    "dtest.shape"
   ]
  },
  {
   "cell_type": "markdown",
   "metadata": {},
   "source": [
    "# Preparing Training Data "
   ]
  },
  {
   "cell_type": "code",
   "execution_count": 211,
   "metadata": {},
   "outputs": [
    {
     "name": "stdout",
     "output_type": "stream",
     "text": [
      "[0.]\n",
      "[0.]\n"
     ]
    }
   ],
   "source": []
  },
  {
   "cell_type": "code",
   "execution_count": 47,
   "metadata": {},
   "outputs": [
    {
     "name": "stdout",
     "output_type": "stream",
     "text": [
      " PIEZOMETER_VALUE\n",
      "ADF test statistic: -2.4555694492308207\n",
      "p-value: 0.12666229008196073\n"
     ]
    }
   ],
   "source": [
    "from statsmodels.tsa.stattools import adfuller\n",
    "for i in dtrain.columns:\n",
    "    print(i)\n",
    "    adfuller_test = adfuller(dtrain[i], autolag= \"AIC\")\n",
    "    print(\"ADF test statistic: {}\".format(adfuller_test[0]))\n",
    "    print(\"p-value: {}\".format(adfuller_test[1]))\n",
    "    "
   ]
  },
  {
   "cell_type": "code",
   "execution_count": null,
   "metadata": {},
   "outputs": [],
   "source": []
  },
  {
   "cell_type": "code",
   "execution_count": 49,
   "metadata": {},
   "outputs": [],
   "source": [
    "reframed=dtrain"
   ]
  },
  {
   "cell_type": "code",
   "execution_count": 50,
   "metadata": {},
   "outputs": [
    {
     "data": {
      "text/plain": [
       "Index([' PIEZOMETER_VALUE'], dtype='object')"
      ]
     },
     "execution_count": 50,
     "metadata": {},
     "output_type": "execute_result"
    }
   ],
   "source": [
    "reframed.columns"
   ]
  },
  {
   "cell_type": "code",
   "execution_count": 185,
   "metadata": {},
   "outputs": [
    {
     "data": {
      "text/html": [
       "<div>\n",
       "<style scoped>\n",
       "    .dataframe tbody tr th:only-of-type {\n",
       "        vertical-align: middle;\n",
       "    }\n",
       "\n",
       "    .dataframe tbody tr th {\n",
       "        vertical-align: top;\n",
       "    }\n",
       "\n",
       "    .dataframe thead th {\n",
       "        text-align: right;\n",
       "    }\n",
       "</style>\n",
       "<table border=\"1\" class=\"dataframe\">\n",
       "  <thead>\n",
       "    <tr style=\"text-align: right;\">\n",
       "      <th></th>\n",
       "      <th>2.2</th>\n",
       "      <th>1.9</th>\n",
       "      <th>1.6</th>\n",
       "      <th>1.3</th>\n",
       "      <th>1</th>\n",
       "      <th>0.7</th>\n",
       "      <th>0.4</th>\n",
       "      <th>0.1</th>\n",
       "    </tr>\n",
       "    <tr>\n",
       "      <th>TIMESTAMP</th>\n",
       "      <th></th>\n",
       "      <th></th>\n",
       "      <th></th>\n",
       "      <th></th>\n",
       "      <th></th>\n",
       "      <th></th>\n",
       "      <th></th>\n",
       "      <th></th>\n",
       "    </tr>\n",
       "  </thead>\n",
       "  <tbody>\n",
       "    <tr>\n",
       "      <th>2013-05-01</th>\n",
       "      <td>0.053260</td>\n",
       "      <td>0.079109</td>\n",
       "      <td>0.048162</td>\n",
       "      <td>0.012632</td>\n",
       "      <td>-0.018704</td>\n",
       "      <td>-0.008912</td>\n",
       "      <td>-0.046434</td>\n",
       "      <td>-0.122346</td>\n",
       "    </tr>\n",
       "    <tr>\n",
       "      <th>2013-05-02</th>\n",
       "      <td>0.044994</td>\n",
       "      <td>0.083609</td>\n",
       "      <td>0.084752</td>\n",
       "      <td>0.030311</td>\n",
       "      <td>0.004640</td>\n",
       "      <td>0.043121</td>\n",
       "      <td>-0.060192</td>\n",
       "      <td>-0.150943</td>\n",
       "    </tr>\n",
       "    <tr>\n",
       "      <th>2013-05-03</th>\n",
       "      <td>0.042431</td>\n",
       "      <td>0.036042</td>\n",
       "      <td>0.022375</td>\n",
       "      <td>-0.040006</td>\n",
       "      <td>-0.078588</td>\n",
       "      <td>0.066270</td>\n",
       "      <td>-0.162553</td>\n",
       "      <td>-0.380712</td>\n",
       "    </tr>\n",
       "    <tr>\n",
       "      <th>2013-05-04</th>\n",
       "      <td>0.030090</td>\n",
       "      <td>0.039781</td>\n",
       "      <td>0.029902</td>\n",
       "      <td>-0.003262</td>\n",
       "      <td>-0.022955</td>\n",
       "      <td>0.125308</td>\n",
       "      <td>-0.115533</td>\n",
       "      <td>-0.468291</td>\n",
       "    </tr>\n",
       "    <tr>\n",
       "      <th>2013-05-05</th>\n",
       "      <td>0.031307</td>\n",
       "      <td>0.033094</td>\n",
       "      <td>0.044868</td>\n",
       "      <td>-0.051199</td>\n",
       "      <td>-0.069161</td>\n",
       "      <td>0.027715</td>\n",
       "      <td>-0.224171</td>\n",
       "      <td>-0.493808</td>\n",
       "    </tr>\n",
       "    <tr>\n",
       "      <th>...</th>\n",
       "      <td>...</td>\n",
       "      <td>...</td>\n",
       "      <td>...</td>\n",
       "      <td>...</td>\n",
       "      <td>...</td>\n",
       "      <td>...</td>\n",
       "      <td>...</td>\n",
       "      <td>...</td>\n",
       "    </tr>\n",
       "    <tr>\n",
       "      <th>2020-10-19</th>\n",
       "      <td>-30.513591</td>\n",
       "      <td>30.309358</td>\n",
       "      <td>252.929597</td>\n",
       "      <td>345.637545</td>\n",
       "      <td>388.855498</td>\n",
       "      <td>487.017204</td>\n",
       "      <td>548.161814</td>\n",
       "      <td>574.545181</td>\n",
       "    </tr>\n",
       "    <tr>\n",
       "      <th>2020-10-20</th>\n",
       "      <td>-30.516172</td>\n",
       "      <td>30.273481</td>\n",
       "      <td>252.932173</td>\n",
       "      <td>345.649299</td>\n",
       "      <td>388.814370</td>\n",
       "      <td>486.968027</td>\n",
       "      <td>548.074834</td>\n",
       "      <td>574.443465</td>\n",
       "    </tr>\n",
       "    <tr>\n",
       "      <th>2020-10-21</th>\n",
       "      <td>-30.531199</td>\n",
       "      <td>30.215903</td>\n",
       "      <td>252.919400</td>\n",
       "      <td>345.604737</td>\n",
       "      <td>388.758522</td>\n",
       "      <td>486.906361</td>\n",
       "      <td>547.962648</td>\n",
       "      <td>574.286817</td>\n",
       "    </tr>\n",
       "    <tr>\n",
       "      <th>2020-10-22</th>\n",
       "      <td>-30.529344</td>\n",
       "      <td>30.245479</td>\n",
       "      <td>252.949183</td>\n",
       "      <td>345.618167</td>\n",
       "      <td>388.750824</td>\n",
       "      <td>486.918214</td>\n",
       "      <td>547.888788</td>\n",
       "      <td>574.144139</td>\n",
       "    </tr>\n",
       "    <tr>\n",
       "      <th>2020-10-23</th>\n",
       "      <td>-30.520287</td>\n",
       "      <td>30.254267</td>\n",
       "      <td>252.943051</td>\n",
       "      <td>345.600836</td>\n",
       "      <td>388.736350</td>\n",
       "      <td>486.916812</td>\n",
       "      <td>547.882227</td>\n",
       "      <td>574.215118</td>\n",
       "    </tr>\n",
       "  </tbody>\n",
       "</table>\n",
       "<p>2733 rows × 8 columns</p>\n",
       "</div>"
      ],
      "text/plain": [
       "                  2.2        1.9         1.6         1.3           1  \\\n",
       "TIMESTAMP                                                              \n",
       "2013-05-01   0.053260   0.079109    0.048162    0.012632   -0.018704   \n",
       "2013-05-02   0.044994   0.083609    0.084752    0.030311    0.004640   \n",
       "2013-05-03   0.042431   0.036042    0.022375   -0.040006   -0.078588   \n",
       "2013-05-04   0.030090   0.039781    0.029902   -0.003262   -0.022955   \n",
       "2013-05-05   0.031307   0.033094    0.044868   -0.051199   -0.069161   \n",
       "...               ...        ...         ...         ...         ...   \n",
       "2020-10-19 -30.513591  30.309358  252.929597  345.637545  388.855498   \n",
       "2020-10-20 -30.516172  30.273481  252.932173  345.649299  388.814370   \n",
       "2020-10-21 -30.531199  30.215903  252.919400  345.604737  388.758522   \n",
       "2020-10-22 -30.529344  30.245479  252.949183  345.618167  388.750824   \n",
       "2020-10-23 -30.520287  30.254267  252.943051  345.600836  388.736350   \n",
       "\n",
       "                   0.7         0.4         0.1  \n",
       "TIMESTAMP                                       \n",
       "2013-05-01   -0.008912   -0.046434   -0.122346  \n",
       "2013-05-02    0.043121   -0.060192   -0.150943  \n",
       "2013-05-03    0.066270   -0.162553   -0.380712  \n",
       "2013-05-04    0.125308   -0.115533   -0.468291  \n",
       "2013-05-05    0.027715   -0.224171   -0.493808  \n",
       "...                ...         ...         ...  \n",
       "2020-10-19  487.017204  548.161814  574.545181  \n",
       "2020-10-20  486.968027  548.074834  574.443465  \n",
       "2020-10-21  486.906361  547.962648  574.286817  \n",
       "2020-10-22  486.918214  547.888788  574.144139  \n",
       "2020-10-23  486.916812  547.882227  574.215118  \n",
       "\n",
       "[2733 rows x 8 columns]"
      ]
     },
     "execution_count": 185,
     "metadata": {},
     "output_type": "execute_result"
    }
   ],
   "source": [
    "dtrain"
   ]
  },
  {
   "cell_type": "code",
   "execution_count": 85,
   "metadata": {},
   "outputs": [
    {
     "ename": "IndentationError",
     "evalue": "unexpected indent (<ipython-input-85-4f352e115b96>, line 7)",
     "output_type": "error",
     "traceback": [
      "\u001b[0;36m  File \u001b[0;32m\"<ipython-input-85-4f352e115b96>\"\u001b[0;36m, line \u001b[0;32m7\u001b[0m\n\u001b[0;31m    reframed.plot();\u001b[0m\n\u001b[0m    ^\u001b[0m\n\u001b[0;31mIndentationError\u001b[0m\u001b[0;31m:\u001b[0m unexpected indent\n"
     ]
    }
   ],
   "source": [
    "#from statsmodels.tsa.stattools import adfuller\n",
    "#for i in reframed.columns:\n",
    "   # print(i)\n",
    "   # adfuller_test = adfuller(reframed[i], autolag= \"AIC\")\n",
    "   # print(\"ADF test statistic: {}\".format(adfuller_test[0]))\n",
    "   # print(\"p-value: {}\".format(adfuller_test[1]))\n",
    "    "
   ]
  },
  {
   "cell_type": "code",
   "execution_count": 216,
   "metadata": {},
   "outputs": [],
   "source": [
    "values = reframed.values\n",
    "train = values[:300, :]\n",
    "test = values[300:, :]"
   ]
  },
  {
   "cell_type": "code",
   "execution_count": 217,
   "metadata": {},
   "outputs": [
    {
     "data": {
      "text/plain": [
       "(2732, 16)"
      ]
     },
     "execution_count": 217,
     "metadata": {},
     "output_type": "execute_result"
    }
   ],
   "source": [
    "values.shape"
   ]
  },
  {
   "cell_type": "code",
   "execution_count": 218,
   "metadata": {},
   "outputs": [
    {
     "name": "stdout",
     "output_type": "stream",
     "text": [
      "(300, 1, 8) (300,) (2432, 1, 8) (2432,)\n"
     ]
    }
   ],
   "source": [
    "# split into input and outputs to predict 8 sensors data\n",
    "train_X, train_y = train[:, :-8], train[:, -8]\n",
    "test_X, test_y = test[:, :-8], test[:, -8]\n",
    "# reshape input to be 3D [samples, timesteps, features]\n",
    "train_X = train_X.reshape((train_X.shape[0], 1, train_X.shape[1]))\n",
    "test_X = test_X.reshape((test_X.shape[0], 1, test_X.shape[1]))\n",
    "print(train_X.shape, train_y.shape, test_X.shape, test_y.shape)"
   ]
  },
  {
   "cell_type": "code",
   "execution_count": 219,
   "metadata": {},
   "outputs": [
    {
     "data": {
      "text/plain": [
       "(2432, 1, 8)"
      ]
     },
     "execution_count": 219,
     "metadata": {},
     "output_type": "execute_result"
    }
   ],
   "source": [
    "test_X.shape"
   ]
  },
  {
   "cell_type": "code",
   "execution_count": 226,
   "metadata": {},
   "outputs": [
    {
     "data": {
      "text/plain": [
       "array([ 0.04499375,  0.04243125,  0.03009   ,  0.03130667,  0.03128583,\n",
       "        0.04707042,  0.06154625,  0.0610925 ,  0.07151625,  0.06348875,\n",
       "        0.04532167,  0.05676708,  0.05817917,  0.09403583,  0.07478458,\n",
       "        0.09467917,  0.08556417,  0.11193417,  0.12748417,  0.12196125,\n",
       "        0.09582417,  0.09930167,  0.10116125,  0.09443042,  0.09070042,\n",
       "        0.07462583,  0.073945  ,  0.07950417,  0.09086667,  0.09396143,\n",
       "        0.09665812,  0.09663369,  0.09660927,  0.09658484,  0.09656042,\n",
       "        0.09653599,  0.09651156,  0.09648714,  0.09646271,  0.09643829,\n",
       "        0.09641386,  0.09638943,  0.09636501,  0.09634058,  0.09631616,\n",
       "        0.09629173,  0.09626731,  0.09624288,  0.09621845,  0.09619403,\n",
       "        0.0961696 ,  0.09614518,  0.09612075,  0.09609633,  0.0960719 ,\n",
       "        0.09604747,  0.09602305,  0.09599862,  0.0959742 ,  0.09594977,\n",
       "        0.09592534,  0.09590092,  0.09587649,  0.09585207,  0.09582764,\n",
       "        0.09580322,  0.09577879,  0.09575436,  0.09572994,  0.09570551,\n",
       "        0.09568109,  0.09565666,  0.09563223,  0.09560781,  0.09558338,\n",
       "        0.09555896,  0.09553453,  0.09551011,  0.09548568,  0.09546125,\n",
       "        0.09543683,  0.0954124 ,  0.09538798,  0.09536355,  0.09533913,\n",
       "        0.0953147 ,  0.09529027,  0.09526585,  0.09524142,  0.095217  ,\n",
       "        0.09519257,  0.09516814,  0.09514372,  0.09511929,  0.09509487,\n",
       "        0.09507044,  0.09504602,  0.09502159,  0.09499716,  0.09497274,\n",
       "        0.09494831,  0.09492389,  0.09489946,  0.09487504,  0.09485061,\n",
       "        0.09482618,  0.09480176,  0.09477733,  0.09475291,  0.09472848,\n",
       "        0.09470405,  0.09467963,  0.0946552 ,  0.09463078,  0.09460635,\n",
       "        0.09458193,  0.0945575 ,  0.09453307,  0.09450865,  0.09448422,\n",
       "        0.0944598 ,  0.09443537,  0.09441094,  0.09438652,  0.09436209,\n",
       "        0.09433767,  0.09431324,  0.09428882,  0.09426439,  0.09423996,\n",
       "        0.09421554,  0.09419111,  0.09416669,  0.09414226,  0.09411784,\n",
       "        0.09409341,  0.09406898,  0.09404456,  0.09402013,  0.09399571,\n",
       "        0.09397128,  0.09394685,  0.09392243,  0.093898  ,  0.09387358,\n",
       "        0.09384915,  0.09382473,  0.0938003 ,  0.09377587,  0.09375145,\n",
       "        0.09372702,  0.0937026 ,  0.09367817,  0.09365375,  0.09362932,\n",
       "        0.09360489,  0.09358047,  0.09355604,  0.09353162,  0.09350719,\n",
       "        0.09348276,  0.09345834,  0.09343391,  0.09340949,  0.09338506,\n",
       "        0.09336064,  0.09333621,  0.09331178,  0.09328736,  0.09326293,\n",
       "        0.09323851,  0.09321408,  0.09318965,  0.09766078,  0.12066917,\n",
       "        0.09771333,  0.12744208,  0.11123208,  0.09252542,  0.12196792,\n",
       "        0.11427875,  0.13259417,  0.11035333,  0.13946125,  0.12626625,\n",
       "        0.10510167,  0.10792417,  0.09928708,  0.11771   ,  0.14766833,\n",
       "        0.152815  ,  0.16834292,  0.16785833,  0.1549575 ,  0.14157458,\n",
       "        0.137205  ,  0.15929458,  0.17159083,  0.15382792,  0.16262458,\n",
       "        0.15099167,  0.16498542,  0.14046583,  0.13289208,  0.1340175 ,\n",
       "        0.11605917,  0.10883875,  0.11892833,  0.12609958,  0.13706   ,\n",
       "        0.13675292,  0.11929   ,  0.0947075 ,  0.11073375,  0.09378   ,\n",
       "        0.11165708,  0.08595667,  0.10398333,  0.06907458,  0.08711458,\n",
       "        0.10780292,  0.10689542,  0.09475292,  0.10392458,  0.1026175 ,\n",
       "        0.11627125,  0.12907083,  0.14242958,  0.10850708,  0.07794833,\n",
       "        0.08884167,  0.10220792,  0.07202958,  0.06680792, -1.24654012,\n",
       "       -3.58919088, -3.59145398, -3.59371708, -3.59598018, -3.59824327,\n",
       "       -3.60050637, -3.60276947, -3.60503257, -3.60729567, -3.60955877,\n",
       "       -3.61182187, -3.61408496, -3.61634806, -3.61861116, -3.62087426,\n",
       "       -3.62313736, -3.62540046, -3.61343371, -3.56616458, -3.56661958,\n",
       "       -3.58265625, -3.57681792, -3.57799167, -3.56234792, -3.5807675 ,\n",
       "       -3.61599625, -3.60815125, -3.63162875, -3.66530875, -3.63775708,\n",
       "       -3.64649375, -3.61495958, -3.62456375, -3.63193083, -3.654455  ,\n",
       "       -3.69496667, -3.74598167, -3.79349125, -3.79137667, -3.79587875,\n",
       "       -3.84758917, -3.88951875, -3.88160708, -3.87366332, -3.87787803,\n",
       "       -3.87745511, -3.87703219, -3.87660927, -3.87618635, -3.87576344,\n",
       "       -3.87534052, -3.8749176 , -3.87449468, -3.87407176, -3.87364884,\n",
       "       -3.87322592, -3.87280301, -3.87238009, -3.87195717, -3.87153425,\n",
       "       -3.87111133, -3.87068841, -3.8702655 , -3.86984258, -3.86941966])"
      ]
     },
     "execution_count": 226,
     "metadata": {},
     "output_type": "execute_result"
    }
   ],
   "source": [
    "train_y"
   ]
  },
  {
   "cell_type": "markdown",
   "metadata": {},
   "source": [
    "# Building Sequential LSTM using keras"
   ]
  },
  {
   "cell_type": "code",
   "execution_count": 220,
   "metadata": {},
   "outputs": [],
   "source": [
    "from keras.layers import RepeatVector\n",
    "from keras.layers import TimeDistributed\n",
    "rgn = Sequential()\n",
    "rgn.add(LSTM(units = 200, activation = 'relu', input_shape=(train_X.shape[1], train_X.shape[2])))\n",
    "rgn.add(Dense(1))\n",
    "rgn.compile(loss='mae', optimizer='adam')"
   ]
  },
  {
   "cell_type": "code",
   "execution_count": 221,
   "metadata": {},
   "outputs": [
    {
     "name": "stdout",
     "output_type": "stream",
     "text": [
      "Epoch 1/100\n",
      "5/5 [==============================] - 2s 125ms/step - loss: 0.7435 - val_loss: 18.3101\n",
      "Epoch 2/100\n",
      "5/5 [==============================] - 0s 41ms/step - loss: 0.5666 - val_loss: 15.4838\n",
      "Epoch 3/100\n",
      "5/5 [==============================] - 0s 37ms/step - loss: 0.4268 - val_loss: 3.7300\n",
      "Epoch 4/100\n",
      "5/5 [==============================] - 0s 37ms/step - loss: 0.3999 - val_loss: 8.5033\n",
      "Epoch 5/100\n",
      "5/5 [==============================] - 0s 37ms/step - loss: 0.3747 - val_loss: 11.3511\n",
      "Epoch 6/100\n",
      "5/5 [==============================] - 0s 37ms/step - loss: 0.3163 - val_loss: 4.0546\n",
      "Epoch 7/100\n",
      "5/5 [==============================] - 0s 37ms/step - loss: 0.2606 - val_loss: 5.4077\n",
      "Epoch 8/100\n",
      "5/5 [==============================] - 0s 35ms/step - loss: 0.2273 - val_loss: 3.2350\n",
      "Epoch 9/100\n",
      "5/5 [==============================] - 0s 33ms/step - loss: 0.2163 - val_loss: 3.7798\n",
      "Epoch 10/100\n",
      "5/5 [==============================] - 0s 33ms/step - loss: 0.2264 - val_loss: 4.0680\n",
      "Epoch 11/100\n",
      "5/5 [==============================] - 0s 34ms/step - loss: 0.2180 - val_loss: 4.0359\n",
      "Epoch 12/100\n",
      "5/5 [==============================] - 0s 34ms/step - loss: 0.1861 - val_loss: 3.4490\n",
      "Epoch 13/100\n",
      "5/5 [==============================] - 0s 34ms/step - loss: 0.1459 - val_loss: 2.7463\n",
      "Epoch 14/100\n",
      "5/5 [==============================] - 0s 34ms/step - loss: 0.1312 - val_loss: 4.8383\n",
      "Epoch 15/100\n",
      "5/5 [==============================] - 0s 34ms/step - loss: 0.1304 - val_loss: 3.0787\n",
      "Epoch 16/100\n",
      "5/5 [==============================] - 0s 34ms/step - loss: 0.1203 - val_loss: 4.6047\n",
      "Epoch 17/100\n",
      "5/5 [==============================] - 0s 34ms/step - loss: 0.0808 - val_loss: 5.7013\n",
      "Epoch 18/100\n",
      "5/5 [==============================] - 0s 34ms/step - loss: 0.0779 - val_loss: 6.2640\n",
      "Epoch 19/100\n",
      "5/5 [==============================] - 0s 34ms/step - loss: 0.0603 - val_loss: 6.6089\n",
      "Epoch 20/100\n",
      "5/5 [==============================] - 0s 34ms/step - loss: 0.0496 - val_loss: 5.6660\n",
      "Epoch 21/100\n",
      "5/5 [==============================] - 0s 34ms/step - loss: 0.0866 - val_loss: 11.0604\n",
      "Epoch 22/100\n",
      "5/5 [==============================] - 0s 34ms/step - loss: 0.0596 - val_loss: 9.2708\n",
      "Epoch 23/100\n",
      "5/5 [==============================] - 0s 64ms/step - loss: 0.0616 - val_loss: 10.8729\n",
      "Epoch 24/100\n",
      "5/5 [==============================] - 0s 35ms/step - loss: 0.0627 - val_loss: 8.6105\n",
      "Epoch 25/100\n",
      "5/5 [==============================] - 0s 37ms/step - loss: 0.0887 - val_loss: 6.5583\n",
      "Epoch 26/100\n",
      "5/5 [==============================] - 0s 37ms/step - loss: 0.0661 - val_loss: 10.6391\n",
      "Epoch 27/100\n",
      "5/5 [==============================] - 0s 55ms/step - loss: 0.0532 - val_loss: 8.0934\n",
      "Epoch 28/100\n",
      "5/5 [==============================] - 0s 47ms/step - loss: 0.0603 - val_loss: 10.5273\n",
      "Epoch 29/100\n",
      "5/5 [==============================] - 0s 43ms/step - loss: 0.0416 - val_loss: 8.8091\n",
      "Epoch 30/100\n",
      "5/5 [==============================] - 0s 42ms/step - loss: 0.0443 - val_loss: 7.7739\n",
      "Epoch 31/100\n",
      "5/5 [==============================] - 0s 43ms/step - loss: 0.0349 - val_loss: 8.3282\n",
      "Epoch 32/100\n",
      "5/5 [==============================] - 0s 41ms/step - loss: 0.0307 - val_loss: 8.4647\n",
      "Epoch 33/100\n",
      "5/5 [==============================] - 0s 35ms/step - loss: 0.0378 - val_loss: 9.0723\n",
      "Epoch 34/100\n",
      "5/5 [==============================] - 0s 34ms/step - loss: 0.0350 - val_loss: 6.4705\n",
      "Epoch 35/100\n",
      "5/5 [==============================] - 0s 34ms/step - loss: 0.0303 - val_loss: 5.5698\n",
      "Epoch 36/100\n",
      "5/5 [==============================] - 0s 36ms/step - loss: 0.0672 - val_loss: 7.2043\n",
      "Epoch 37/100\n",
      "5/5 [==============================] - 0s 37ms/step - loss: 0.0284 - val_loss: 6.0273\n",
      "Epoch 38/100\n",
      "5/5 [==============================] - 0s 35ms/step - loss: 0.0368 - val_loss: 6.9839\n",
      "Epoch 39/100\n",
      "5/5 [==============================] - 0s 35ms/step - loss: 0.0310 - val_loss: 6.9527\n",
      "Epoch 40/100\n",
      "5/5 [==============================] - 0s 35ms/step - loss: 0.0352 - val_loss: 6.4537\n",
      "Epoch 41/100\n",
      "5/5 [==============================] - 0s 33ms/step - loss: 0.0296 - val_loss: 5.7585\n",
      "Epoch 42/100\n",
      "5/5 [==============================] - 0s 34ms/step - loss: 0.0222 - val_loss: 4.3923\n",
      "Epoch 43/100\n",
      "5/5 [==============================] - 0s 34ms/step - loss: 0.0464 - val_loss: 5.5252\n",
      "Epoch 44/100\n",
      "5/5 [==============================] - 0s 34ms/step - loss: 0.0269 - val_loss: 5.8431\n",
      "Epoch 45/100\n",
      "5/5 [==============================] - 0s 34ms/step - loss: 0.0345 - val_loss: 4.1450\n",
      "Epoch 46/100\n",
      "5/5 [==============================] - 0s 35ms/step - loss: 0.0264 - val_loss: 4.5654\n",
      "Epoch 47/100\n",
      "5/5 [==============================] - 0s 34ms/step - loss: 0.0384 - val_loss: 7.5171\n",
      "Epoch 48/100\n",
      "5/5 [==============================] - 0s 37ms/step - loss: 0.0542 - val_loss: 4.3543\n",
      "Epoch 49/100\n",
      "5/5 [==============================] - 0s 35ms/step - loss: 0.0457 - val_loss: 6.1019\n",
      "Epoch 50/100\n",
      "5/5 [==============================] - 0s 49ms/step - loss: 0.0364 - val_loss: 4.7971\n",
      "Epoch 51/100\n",
      "5/5 [==============================] - 0s 42ms/step - loss: 0.0408 - val_loss: 5.7223\n",
      "Epoch 52/100\n",
      "5/5 [==============================] - 0s 42ms/step - loss: 0.0255 - val_loss: 6.3655\n",
      "Epoch 53/100\n",
      "5/5 [==============================] - 0s 45ms/step - loss: 0.0356 - val_loss: 4.8460\n",
      "Epoch 54/100\n",
      "5/5 [==============================] - 0s 40ms/step - loss: 0.0343 - val_loss: 5.2188\n",
      "Epoch 55/100\n",
      "5/5 [==============================] - 0s 39ms/step - loss: 0.0252 - val_loss: 6.1962\n",
      "Epoch 56/100\n",
      "5/5 [==============================] - 0s 36ms/step - loss: 0.0440 - val_loss: 4.7454\n",
      "Epoch 57/100\n",
      "5/5 [==============================] - 0s 32ms/step - loss: 0.0278 - val_loss: 6.1656\n",
      "Epoch 58/100\n",
      "5/5 [==============================] - 0s 32ms/step - loss: 0.0344 - val_loss: 3.8313\n",
      "Epoch 59/100\n",
      "5/5 [==============================] - 0s 34ms/step - loss: 0.0484 - val_loss: 5.4968\n",
      "Epoch 60/100\n",
      "5/5 [==============================] - 0s 36ms/step - loss: 0.0382 - val_loss: 6.4047\n",
      "Epoch 61/100\n",
      "5/5 [==============================] - 0s 33ms/step - loss: 0.0440 - val_loss: 4.1247\n",
      "Epoch 62/100\n",
      "5/5 [==============================] - 0s 33ms/step - loss: 0.0487 - val_loss: 4.7598\n",
      "Epoch 63/100\n",
      "5/5 [==============================] - 0s 52ms/step - loss: 0.0451 - val_loss: 4.0203\n",
      "Epoch 64/100\n",
      "5/5 [==============================] - 0s 56ms/step - loss: 0.0440 - val_loss: 7.7130\n",
      "Epoch 65/100\n",
      "5/5 [==============================] - 0s 45ms/step - loss: 0.0624 - val_loss: 3.6564\n",
      "Epoch 66/100\n",
      "5/5 [==============================] - 0s 41ms/step - loss: 0.0851 - val_loss: 3.2527\n",
      "Epoch 67/100\n",
      "5/5 [==============================] - 0s 40ms/step - loss: 0.0524 - val_loss: 9.1506\n",
      "Epoch 68/100\n",
      "5/5 [==============================] - 0s 34ms/step - loss: 0.0755 - val_loss: 3.0460\n",
      "Epoch 69/100\n",
      "5/5 [==============================] - 0s 41ms/step - loss: 0.0701 - val_loss: 6.5830\n",
      "Epoch 70/100\n",
      "5/5 [==============================] - 0s 47ms/step - loss: 0.0428 - val_loss: 5.1503\n",
      "Epoch 71/100\n",
      "5/5 [==============================] - 0s 77ms/step - loss: 0.0341 - val_loss: 5.9549\n",
      "Epoch 72/100\n",
      "5/5 [==============================] - 0s 41ms/step - loss: 0.0247 - val_loss: 4.7450\n",
      "Epoch 73/100\n",
      "5/5 [==============================] - 0s 47ms/step - loss: 0.0204 - val_loss: 3.8594\n",
      "Epoch 74/100\n",
      "5/5 [==============================] - 0s 45ms/step - loss: 0.0242 - val_loss: 3.1810\n",
      "Epoch 75/100\n",
      "5/5 [==============================] - 0s 35ms/step - loss: 0.0247 - val_loss: 4.0857\n",
      "Epoch 76/100\n",
      "5/5 [==============================] - 0s 32ms/step - loss: 0.0223 - val_loss: 3.5747\n",
      "Epoch 77/100\n",
      "5/5 [==============================] - 0s 37ms/step - loss: 0.0251 - val_loss: 3.3617\n",
      "Epoch 78/100\n",
      "5/5 [==============================] - 0s 34ms/step - loss: 0.0230 - val_loss: 4.6683\n",
      "Epoch 79/100\n",
      "5/5 [==============================] - 0s 36ms/step - loss: 0.0360 - val_loss: 3.2480\n",
      "Epoch 80/100\n",
      "5/5 [==============================] - 0s 40ms/step - loss: 0.0335 - val_loss: 3.3258\n",
      "Epoch 81/100\n",
      "5/5 [==============================] - 0s 37ms/step - loss: 0.0265 - val_loss: 3.1315\n",
      "Epoch 82/100\n",
      "5/5 [==============================] - 0s 38ms/step - loss: 0.0248 - val_loss: 3.1924\n",
      "Epoch 83/100\n",
      "5/5 [==============================] - 0s 43ms/step - loss: 0.0331 - val_loss: 3.5341\n",
      "Epoch 84/100\n",
      "5/5 [==============================] - 0s 38ms/step - loss: 0.0213 - val_loss: 3.6128\n",
      "Epoch 85/100\n",
      "5/5 [==============================] - 0s 37ms/step - loss: 0.0386 - val_loss: 2.7023\n",
      "Epoch 86/100\n",
      "5/5 [==============================] - 0s 31ms/step - loss: 0.0564 - val_loss: 3.0536\n",
      "Epoch 87/100\n",
      "5/5 [==============================] - 0s 34ms/step - loss: 0.0333 - val_loss: 3.1966\n",
      "Epoch 88/100\n",
      "5/5 [==============================] - 0s 31ms/step - loss: 0.0392 - val_loss: 4.2618\n",
      "Epoch 89/100\n",
      "5/5 [==============================] - 0s 34ms/step - loss: 0.0411 - val_loss: 3.1684\n",
      "Epoch 90/100\n",
      "5/5 [==============================] - 0s 36ms/step - loss: 0.0184 - val_loss: 3.5438\n",
      "Epoch 91/100\n",
      "5/5 [==============================] - 0s 37ms/step - loss: 0.0233 - val_loss: 3.9560\n",
      "Epoch 92/100\n",
      "5/5 [==============================] - 0s 32ms/step - loss: 0.0297 - val_loss: 3.1444\n",
      "Epoch 93/100\n",
      "5/5 [==============================] - 0s 35ms/step - loss: 0.0344 - val_loss: 2.6875\n",
      "Epoch 94/100\n",
      "5/5 [==============================] - 0s 45ms/step - loss: 0.0430 - val_loss: 3.1344\n",
      "Epoch 95/100\n",
      "5/5 [==============================] - 0s 41ms/step - loss: 0.0283 - val_loss: 2.9903\n",
      "Epoch 96/100\n",
      "5/5 [==============================] - 0s 42ms/step - loss: 0.0397 - val_loss: 4.2462\n",
      "Epoch 97/100\n",
      "5/5 [==============================] - 0s 43ms/step - loss: 0.0570 - val_loss: 2.7018\n",
      "Epoch 98/100\n",
      "5/5 [==============================] - 0s 42ms/step - loss: 0.0441 - val_loss: 3.3321\n",
      "Epoch 99/100\n",
      "5/5 [==============================] - 0s 32ms/step - loss: 0.0399 - val_loss: 3.4744\n",
      "Epoch 100/100\n",
      "5/5 [==============================] - 0s 34ms/step - loss: 0.0253 - val_loss: 3.1644\n"
     ]
    }
   ],
   "source": [
    "#train the model\n",
    "\n",
    "model=rgn.fit(train_X, train_y, epochs = 100,batch_size=72, validation_data=(test_X, test_y))"
   ]
  },
  {
   "cell_type": "code",
   "execution_count": 222,
   "metadata": {
    "scrolled": true
   },
   "outputs": [
    {
     "data": {
      "image/png": "[encoded data removed]",
      "text/plain": [
       "<Figure size 432x288 with 1 Axes>"
      ]
     },
     "metadata": {
      "needs_background": "light"
     },
     "output_type": "display_data"
    }
   ],
   "source": [
    "# plot history\n",
    "from matplotlib import pyplot\n",
    "pyplot.plot(model.history['loss'], label='train')\n",
    "pyplot.plot(model.history['val_loss'], label='test')\n",
    "pyplot.legend()\n",
    "pyplot.show()\n"
   ]
  },
  {
   "cell_type": "code",
   "execution_count": 223,
   "metadata": {},
   "outputs": [
    {
     "name": "stdout",
     "output_type": "stream",
     "text": [
      "Test RMSE: 4.301\n"
     ]
    }
   ],
   "source": [
    "# Evaluating the model \n",
    "yhat = rgn.predict(test_X)\n",
    "test_X = test_X.reshape((test_X.shape[0], test_X.shape[2]))\n",
    "# invert scaling for forecast\n",
    "inv_yhat = np.concatenate((yhat, test_X[:, 1:]), axis=1)\n",
    "#inv_yhat = np.scaler.inverse_transform(inv_yhat)   remove the comment when scaling has been applied\n",
    "inv_yhat = inv_yhat[:,0]\n",
    "# invert scaling for actual\n",
    "test_y = test_y.reshape((len(test_y), 1))\n",
    "inv_y = np.concatenate((test_y, test_X[:, 1:]), axis=1)\n",
    "#inv_y = scaler.inverse_transform(inv_y)  remove the comment when scaling has been applied\n",
    "inv_y = inv_y[:,0]\n",
    "# calculate RMSE\n",
    "rmse = np.sqrt(mean_squared_error(inv_y, inv_yhat))\n",
    "print('Test RMSE: %.3f' % rmse)"
   ]
  },
  {
   "cell_type": "code",
   "execution_count": null,
   "metadata": {},
   "outputs": [],
   "source": []
  },
  {
   "cell_type": "code",
   "execution_count": 55,
   "metadata": {},
   "outputs": [],
   "source": [
    "### Prediction on the test data "
   ]
  },
  {
   "cell_type": "code",
   "execution_count": 224,
   "metadata": {},
   "outputs": [
    {
     "name": "stdout",
     "output_type": "stream",
     "text": [
      "Test RMSE: 6.745\n"
     ]
    }
   ],
   "source": [
    "reframed_test=series_to_supervised(dtest)\n",
    "test = reframed_test.values\n",
    "test_X, test_y = test[:, :-8], test[:, -8]\n",
    "test_X=test_X.reshape((test_X.shape[0], 1, test_X.shape[1]))\n",
    "y_pred = rgn.predict(test_X)\n",
    "test_X = test_X.reshape((test_X.shape[0], test_X.shape[2]))\n",
    "inv_yhat = np.concatenate((y_pred, test_X[:, 1:]), axis=1)\n",
    "inv_yhat = inv_yhat[:,0]\n",
    "test_y = test_y.reshape((len(test_y), 1))\n",
    "inv_y = np.concatenate((test_y, test_X[:, 1:]), axis=1)\n",
    "inv_y = inv_y[:,0]\n",
    "rmse = np.sqrt(mean_squared_error(inv_y, inv_yhat))\n",
    "print('Test RMSE: %.3f' % rmse)"
   ]
  },
  {
   "cell_type": "code",
   "execution_count": 236,
   "metadata": {},
   "outputs": [
    {
     "data": {
      "text/plain": [
       "(2732,)"
      ]
     },
     "execution_count": 236,
     "metadata": {},
     "output_type": "execute_result"
    }
   ],
   "source": [
    "actual_val.shape"
   ]
  },
  {
   "cell_type": "code",
   "execution_count": 234,
   "metadata": {},
   "outputs": [
    {
     "data": {
      "text/plain": [
       "(2702,)"
      ]
     },
     "execution_count": 234,
     "metadata": {},
     "output_type": "execute_result"
    }
   ],
   "source": [
    "inv_yhat.shape"
   ]
  },
  {
   "cell_type": "code",
   "execution_count": 232,
   "metadata": {},
   "outputs": [
    {
     "ename": "ValueError",
     "evalue": "array length 2702 does not match index length 2732",
     "output_type": "error",
     "traceback": [
      "\u001b[0;31m---------------------------------------------------------------------------\u001b[0m",
      "\u001b[0;31mValueError\u001b[0m                                Traceback (most recent call last)",
      "\u001b[0;32m<ipython-input-232-333637fa34d8>\u001b[0m in \u001b[0;36m<module>\u001b[0;34m\u001b[0m\n\u001b[1;32m      1\u001b[0m \u001b[0mtimestamp\u001b[0m\u001b[0;34m=\u001b[0m\u001b[0mreframed\u001b[0m\u001b[0;34m.\u001b[0m\u001b[0mreset_index\u001b[0m\u001b[0;34m(\u001b[0m\u001b[0;34m)\u001b[0m\u001b[0;34m[\u001b[0m\u001b[0;34m'TIMESTAMP'\u001b[0m\u001b[0;34m]\u001b[0m\u001b[0;34m[\u001b[0m\u001b[0;34m:\u001b[0m\u001b[0;34m]\u001b[0m\u001b[0;34m\u001b[0m\u001b[0;34m\u001b[0m\u001b[0m\n\u001b[1;32m      2\u001b[0m \u001b[0mactual_val\u001b[0m\u001b[0;34m=\u001b[0m\u001b[0mreframed\u001b[0m\u001b[0;34m.\u001b[0m\u001b[0mreset_index\u001b[0m\u001b[0;34m(\u001b[0m\u001b[0;34m)\u001b[0m\u001b[0;34m[\u001b[0m\u001b[0;34m'var1(t)'\u001b[0m\u001b[0;34m]\u001b[0m\u001b[0;34m[\u001b[0m\u001b[0;34m:\u001b[0m\u001b[0;34m]\u001b[0m\u001b[0;34m\u001b[0m\u001b[0;34m\u001b[0m\u001b[0m\n\u001b[0;32m----> 3\u001b[0;31m \u001b[0mPredicted_values\u001b[0m\u001b[0;34m=\u001b[0m\u001b[0mpd\u001b[0m\u001b[0;34m.\u001b[0m\u001b[0mDataFrame\u001b[0m\u001b[0;34m(\u001b[0m\u001b[0;34m{\u001b[0m\u001b[0;34m'timestamp'\u001b[0m\u001b[0;34m:\u001b[0m\u001b[0mtimestamp\u001b[0m\u001b[0;34m,\u001b[0m\u001b[0;34m'predicted_value'\u001b[0m\u001b[0;34m:\u001b[0m\u001b[0minv_yhat\u001b[0m\u001b[0;34m,\u001b[0m\u001b[0;34m'actual_value'\u001b[0m\u001b[0;34m:\u001b[0m\u001b[0mactual_val\u001b[0m\u001b[0;34m}\u001b[0m\u001b[0;34m)\u001b[0m\u001b[0;34m\u001b[0m\u001b[0;34m\u001b[0m\u001b[0m\n\u001b[0m",
      "\u001b[0;32m~/opt/anaconda3/lib/python3.7/site-packages/pandas/core/frame.py\u001b[0m in \u001b[0;36m__init__\u001b[0;34m(self, data, index, columns, dtype, copy)\u001b[0m\n\u001b[1;32m    433\u001b[0m             )\n\u001b[1;32m    434\u001b[0m         \u001b[0;32melif\u001b[0m \u001b[0misinstance\u001b[0m\u001b[0;34m(\u001b[0m\u001b[0mdata\u001b[0m\u001b[0;34m,\u001b[0m \u001b[0mdict\u001b[0m\u001b[0;34m)\u001b[0m\u001b[0;34m:\u001b[0m\u001b[0;34m\u001b[0m\u001b[0;34m\u001b[0m\u001b[0m\n\u001b[0;32m--> 435\u001b[0;31m             \u001b[0mmgr\u001b[0m \u001b[0;34m=\u001b[0m \u001b[0minit_dict\u001b[0m\u001b[0;34m(\u001b[0m\u001b[0mdata\u001b[0m\u001b[0;34m,\u001b[0m \u001b[0mindex\u001b[0m\u001b[0;34m,\u001b[0m \u001b[0mcolumns\u001b[0m\u001b[0;34m,\u001b[0m \u001b[0mdtype\u001b[0m\u001b[0;34m=\u001b[0m\u001b[0mdtype\u001b[0m\u001b[0;34m)\u001b[0m\u001b[0;34m\u001b[0m\u001b[0;34m\u001b[0m\u001b[0m\n\u001b[0m\u001b[1;32m    436\u001b[0m         \u001b[0;32melif\u001b[0m \u001b[0misinstance\u001b[0m\u001b[0;34m(\u001b[0m\u001b[0mdata\u001b[0m\u001b[0;34m,\u001b[0m \u001b[0mma\u001b[0m\u001b[0;34m.\u001b[0m\u001b[0mMaskedArray\u001b[0m\u001b[0;34m)\u001b[0m\u001b[0;34m:\u001b[0m\u001b[0;34m\u001b[0m\u001b[0;34m\u001b[0m\u001b[0m\n\u001b[1;32m    437\u001b[0m             \u001b[0;32mimport\u001b[0m \u001b[0mnumpy\u001b[0m\u001b[0;34m.\u001b[0m\u001b[0mma\u001b[0m\u001b[0;34m.\u001b[0m\u001b[0mmrecords\u001b[0m \u001b[0;32mas\u001b[0m \u001b[0mmrecords\u001b[0m\u001b[0;34m\u001b[0m\u001b[0;34m\u001b[0m\u001b[0m\n",
      "\u001b[0;32m~/opt/anaconda3/lib/python3.7/site-packages/pandas/core/internals/construction.py\u001b[0m in \u001b[0;36minit_dict\u001b[0;34m(data, index, columns, dtype)\u001b[0m\n\u001b[1;32m    252\u001b[0m             \u001b[0marr\u001b[0m \u001b[0;32mif\u001b[0m \u001b[0;32mnot\u001b[0m \u001b[0mis_datetime64tz_dtype\u001b[0m\u001b[0;34m(\u001b[0m\u001b[0marr\u001b[0m\u001b[0;34m)\u001b[0m \u001b[0;32melse\u001b[0m \u001b[0marr\u001b[0m\u001b[0;34m.\u001b[0m\u001b[0mcopy\u001b[0m\u001b[0;34m(\u001b[0m\u001b[0;34m)\u001b[0m \u001b[0;32mfor\u001b[0m \u001b[0marr\u001b[0m \u001b[0;32min\u001b[0m \u001b[0marrays\u001b[0m\u001b[0;34m\u001b[0m\u001b[0;34m\u001b[0m\u001b[0m\n\u001b[1;32m    253\u001b[0m         ]\n\u001b[0;32m--> 254\u001b[0;31m     \u001b[0;32mreturn\u001b[0m \u001b[0marrays_to_mgr\u001b[0m\u001b[0;34m(\u001b[0m\u001b[0marrays\u001b[0m\u001b[0;34m,\u001b[0m \u001b[0mdata_names\u001b[0m\u001b[0;34m,\u001b[0m \u001b[0mindex\u001b[0m\u001b[0;34m,\u001b[0m \u001b[0mcolumns\u001b[0m\u001b[0;34m,\u001b[0m \u001b[0mdtype\u001b[0m\u001b[0;34m=\u001b[0m\u001b[0mdtype\u001b[0m\u001b[0;34m)\u001b[0m\u001b[0;34m\u001b[0m\u001b[0;34m\u001b[0m\u001b[0m\n\u001b[0m\u001b[1;32m    255\u001b[0m \u001b[0;34m\u001b[0m\u001b[0m\n\u001b[1;32m    256\u001b[0m \u001b[0;34m\u001b[0m\u001b[0m\n",
      "\u001b[0;32m~/opt/anaconda3/lib/python3.7/site-packages/pandas/core/internals/construction.py\u001b[0m in \u001b[0;36marrays_to_mgr\u001b[0;34m(arrays, arr_names, index, columns, dtype)\u001b[0m\n\u001b[1;32m     62\u001b[0m     \u001b[0;31m# figure out the index, if necessary\u001b[0m\u001b[0;34m\u001b[0m\u001b[0;34m\u001b[0m\u001b[0;34m\u001b[0m\u001b[0m\n\u001b[1;32m     63\u001b[0m     \u001b[0;32mif\u001b[0m \u001b[0mindex\u001b[0m \u001b[0;32mis\u001b[0m \u001b[0;32mNone\u001b[0m\u001b[0;34m:\u001b[0m\u001b[0;34m\u001b[0m\u001b[0;34m\u001b[0m\u001b[0m\n\u001b[0;32m---> 64\u001b[0;31m         \u001b[0mindex\u001b[0m \u001b[0;34m=\u001b[0m \u001b[0mextract_index\u001b[0m\u001b[0;34m(\u001b[0m\u001b[0marrays\u001b[0m\u001b[0;34m)\u001b[0m\u001b[0;34m\u001b[0m\u001b[0;34m\u001b[0m\u001b[0m\n\u001b[0m\u001b[1;32m     65\u001b[0m     \u001b[0;32melse\u001b[0m\u001b[0;34m:\u001b[0m\u001b[0;34m\u001b[0m\u001b[0;34m\u001b[0m\u001b[0m\n\u001b[1;32m     66\u001b[0m         \u001b[0mindex\u001b[0m \u001b[0;34m=\u001b[0m \u001b[0mensure_index\u001b[0m\u001b[0;34m(\u001b[0m\u001b[0mindex\u001b[0m\u001b[0;34m)\u001b[0m\u001b[0;34m\u001b[0m\u001b[0;34m\u001b[0m\u001b[0m\n",
      "\u001b[0;32m~/opt/anaconda3/lib/python3.7/site-packages/pandas/core/internals/construction.py\u001b[0m in \u001b[0;36mextract_index\u001b[0;34m(data)\u001b[0m\n\u001b[1;32m    376\u001b[0m                         \u001b[0;34mf\"length {len(index)}\"\u001b[0m\u001b[0;34m\u001b[0m\u001b[0;34m\u001b[0m\u001b[0m\n\u001b[1;32m    377\u001b[0m                     )\n\u001b[0;32m--> 378\u001b[0;31m                     \u001b[0;32mraise\u001b[0m \u001b[0mValueError\u001b[0m\u001b[0;34m(\u001b[0m\u001b[0mmsg\u001b[0m\u001b[0;34m)\u001b[0m\u001b[0;34m\u001b[0m\u001b[0;34m\u001b[0m\u001b[0m\n\u001b[0m\u001b[1;32m    379\u001b[0m             \u001b[0;32melse\u001b[0m\u001b[0;34m:\u001b[0m\u001b[0;34m\u001b[0m\u001b[0;34m\u001b[0m\u001b[0m\n\u001b[1;32m    380\u001b[0m                 \u001b[0mindex\u001b[0m \u001b[0;34m=\u001b[0m \u001b[0mibase\u001b[0m\u001b[0;34m.\u001b[0m\u001b[0mdefault_index\u001b[0m\u001b[0;34m(\u001b[0m\u001b[0mlengths\u001b[0m\u001b[0;34m[\u001b[0m\u001b[0;36m0\u001b[0m\u001b[0;34m]\u001b[0m\u001b[0;34m)\u001b[0m\u001b[0;34m\u001b[0m\u001b[0;34m\u001b[0m\u001b[0m\n",
      "\u001b[0;31mValueError\u001b[0m: array length 2702 does not match index length 2732"
     ]
    }
   ],
   "source": [
    "timestamp=reframed.reset_index()['TIMESTAMP'][:]\n",
    "actual_val=reframed.reset_index()['var1(t)'][:]\n",
    "Predicted_values=pd.DataFrame({'timestamp':timestamp,'predicted_value':inv_yhat,'actual_value':actual_val})\n"
   ]
  },
  {
   "cell_type": "code",
   "execution_count": 228,
   "metadata": {},
   "outputs": [
    {
     "ename": "NameError",
     "evalue": "name 'Predicted_values' is not defined",
     "output_type": "error",
     "traceback": [
      "\u001b[0;31m---------------------------------------------------------------------------\u001b[0m",
      "\u001b[0;31mNameError\u001b[0m                                 Traceback (most recent call last)",
      "\u001b[0;32m<ipython-input-228-e81cee3b8991>\u001b[0m in \u001b[0;36m<module>\u001b[0;34m\u001b[0m\n\u001b[0;32m----> 1\u001b[0;31m \u001b[0mplt\u001b[0m\u001b[0;34m.\u001b[0m\u001b[0mplot\u001b[0m\u001b[0;34m(\u001b[0m\u001b[0mPredicted_values\u001b[0m\u001b[0;34m.\u001b[0m\u001b[0mtimestamp\u001b[0m\u001b[0;34m,\u001b[0m\u001b[0mPredicted_values\u001b[0m\u001b[0;34m.\u001b[0m\u001b[0mpredicted_value\u001b[0m\u001b[0;34m,\u001b[0m\u001b[0mlab\u001b[0m\u001b[0;34m)\u001b[0m\u001b[0;34m\u001b[0m\u001b[0;34m\u001b[0m\u001b[0m\n\u001b[0m\u001b[1;32m      2\u001b[0m \u001b[0mplt\u001b[0m\u001b[0;34m.\u001b[0m\u001b[0mplot\u001b[0m\u001b[0;34m(\u001b[0m\u001b[0mPredicted_values\u001b[0m\u001b[0;34m.\u001b[0m\u001b[0mtimestamp\u001b[0m\u001b[0;34m,\u001b[0m\u001b[0mPredicted_values\u001b[0m\u001b[0;34m.\u001b[0m\u001b[0mactual_value\u001b[0m\u001b[0;34m)\u001b[0m\u001b[0;34m\u001b[0m\u001b[0;34m\u001b[0m\u001b[0m\n",
      "\u001b[0;31mNameError\u001b[0m: name 'Predicted_values' is not defined"
     ]
    }
   ],
   "source": [
    "plt.plot(Predicted_values.timestamp,Predicted_values.predicted_value,lab)\n",
    "plt.plot(Predicted_values.timestamp,Predicted_values.actual_value)\n"
   ]
  },
  {
   "cell_type": "code",
   "execution_count": null,
   "metadata": {},
   "outputs": [],
   "source": []
  }
 ],
 "metadata": {
  "kernelspec": {
   "display_name": "Python 3",
   "language": "python",
   "name": "python3"
  },
  "language_info": {
   "codemirror_mode": {
    "name": "ipython",
    "version": 3
   },
   "file_extension": ".py",
   "mimetype": "text/x-python",
   "name": "python",
   "nbconvert_exporter": "python",
   "pygments_lexer": "ipython3",
   "version": "3.7.6"
  }
 },
 "nbformat": 4,
 "nbformat_minor": 2
}
