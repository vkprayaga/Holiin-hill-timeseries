{
 "cells": [
  {
   "cell_type": "code",
   "execution_count": 33,
   "metadata": {},
   "outputs": [],
   "source": [
    "import numpy as np\n",
    "import pandas as pd\n",
    "from matplotlib import pyplot as plt\n",
    "from statsmodels.tsa.stattools import adfuller\n",
    "from statsmodels.tsa.seasonal import seasonal_decompose\n",
    "from statsmodels.tsa.arima_model import ARIMA\n",
    "from pandas.plotting import register_matplotlib_converters\n",
    "register_matplotlib_converters()\n",
    "import warnings\n",
    "warnings.filterwarnings(\"ignore\")\n",
    "from datetime import datetime"
   ]
  },
  {
   "cell_type": "code",
   "execution_count": null,
   "metadata": {},
   "outputs": [],
   "source": []
  },
  {
   "cell_type": "code",
   "execution_count": 34,
   "metadata": {},
   "outputs": [
    {
     "name": "stdout",
     "output_type": "stream",
     "text": [
      "Requirement already satisfied: pmdarima in /opt/anaconda3/lib/python3.7/site-packages (1.8.2)\n",
      "Requirement already satisfied: Cython!=0.29.18,>=0.29 in /opt/anaconda3/lib/python3.7/site-packages (from pmdarima) (0.29.13)\n",
      "Requirement already satisfied: urllib3 in /opt/anaconda3/lib/python3.7/site-packages (from pmdarima) (1.24.2)\n",
      "Requirement already satisfied: joblib>=0.11 in /opt/anaconda3/lib/python3.7/site-packages (from pmdarima) (0.13.2)\n",
      "Requirement already satisfied: numpy~=1.19.0 in /opt/anaconda3/lib/python3.7/site-packages (from pmdarima) (1.19.5)\n",
      "Requirement already satisfied: scipy>=1.3.2 in /opt/anaconda3/lib/python3.7/site-packages (from pmdarima) (1.6.3)\n",
      "Requirement already satisfied: scikit-learn>=0.22 in /opt/anaconda3/lib/python3.7/site-packages (from pmdarima) (0.22)\n",
      "Requirement already satisfied: pandas>=0.19 in /opt/anaconda3/lib/python3.7/site-packages (from pmdarima) (0.25.1)\n",
      "Requirement already satisfied: statsmodels!=0.12.0,>=0.11 in /opt/anaconda3/lib/python3.7/site-packages (from pmdarima) (0.12.2)\n",
      "Requirement already satisfied: setuptools!=50.0.0,>=38.6.0 in /opt/anaconda3/lib/python3.7/site-packages (from pmdarima) (41.4.0)\n",
      "Requirement already satisfied: pytz>=2017.2 in /opt/anaconda3/lib/python3.7/site-packages (from pandas>=0.19->pmdarima) (2019.3)\n",
      "Requirement already satisfied: python-dateutil>=2.6.1 in /opt/anaconda3/lib/python3.7/site-packages (from pandas>=0.19->pmdarima) (2.8.0)\n",
      "Requirement already satisfied: patsy>=0.5 in /opt/anaconda3/lib/python3.7/site-packages (from statsmodels!=0.12.0,>=0.11->pmdarima) (0.5.1)\n",
      "Requirement already satisfied: six>=1.5 in /opt/anaconda3/lib/python3.7/site-packages (from python-dateutil>=2.6.1->pandas>=0.19->pmdarima) (1.12.0)\n",
      "Note: you may need to restart the kernel to use updated packages.\n"
     ]
    }
   ],
   "source": [
    "pip install pmdarima"
   ]
  },
  {
   "cell_type": "code",
   "execution_count": 35,
   "metadata": {},
   "outputs": [],
   "source": [
    "import os"
   ]
  },
  {
   "cell_type": "code",
   "execution_count": 36,
   "metadata": {},
   "outputs": [
    {
     "data": {
      "text/plain": [
       "'/Users/i313121/Desktop/insofe/prayag_project/Files/SAA'"
      ]
     },
     "execution_count": 36,
     "metadata": {},
     "output_type": "execute_result"
    }
   ],
   "source": [
    "os.getcwd()"
   ]
  },
  {
   "cell_type": "code",
   "execution_count": 37,
   "metadata": {},
   "outputs": [],
   "source": [
    "os.chdir(\"/Users/i313121/Desktop/insofe/prayag_project/Files/SAA\")"
   ]
  },
  {
   "cell_type": "code",
   "execution_count": 38,
   "metadata": {},
   "outputs": [
    {
     "data": {
      "text/html": [
       "<div>\n",
       "<style scoped>\n",
       "    .dataframe tbody tr th:only-of-type {\n",
       "        vertical-align: middle;\n",
       "    }\n",
       "\n",
       "    .dataframe tbody tr th {\n",
       "        vertical-align: top;\n",
       "    }\n",
       "\n",
       "    .dataframe thead th {\n",
       "        text-align: right;\n",
       "    }\n",
       "</style>\n",
       "<table border=\"1\" class=\"dataframe\">\n",
       "  <thead>\n",
       "    <tr style=\"text-align: right;\">\n",
       "      <th></th>\n",
       "      <th>2.5</th>\n",
       "      <th>2.2</th>\n",
       "      <th>1.9</th>\n",
       "      <th>1.6</th>\n",
       "      <th>1.3</th>\n",
       "      <th>1</th>\n",
       "      <th>0.7</th>\n",
       "      <th>0.4</th>\n",
       "      <th>0.1</th>\n",
       "    </tr>\n",
       "    <tr>\n",
       "      <th>TIMESTAMP</th>\n",
       "      <th></th>\n",
       "      <th></th>\n",
       "      <th></th>\n",
       "      <th></th>\n",
       "      <th></th>\n",
       "      <th></th>\n",
       "      <th></th>\n",
       "      <th></th>\n",
       "      <th></th>\n",
       "    </tr>\n",
       "  </thead>\n",
       "  <tbody>\n",
       "    <tr>\n",
       "      <td>2013-05-01 14:00:00</td>\n",
       "      <td>0.0</td>\n",
       "      <td>0.05250</td>\n",
       "      <td>0.05956</td>\n",
       "      <td>-0.01381</td>\n",
       "      <td>-0.02104</td>\n",
       "      <td>-0.03476</td>\n",
       "      <td>-0.04653</td>\n",
       "      <td>-0.06661</td>\n",
       "      <td>-0.02817</td>\n",
       "    </tr>\n",
       "    <tr>\n",
       "      <td>2013-05-01 15:00:00</td>\n",
       "      <td>0.0</td>\n",
       "      <td>0.08976</td>\n",
       "      <td>0.14507</td>\n",
       "      <td>0.11240</td>\n",
       "      <td>0.06926</td>\n",
       "      <td>0.07962</td>\n",
       "      <td>0.10925</td>\n",
       "      <td>0.13041</td>\n",
       "      <td>0.17957</td>\n",
       "    </tr>\n",
       "    <tr>\n",
       "      <td>2013-05-01 16:00:00</td>\n",
       "      <td>0.0</td>\n",
       "      <td>0.03456</td>\n",
       "      <td>0.07399</td>\n",
       "      <td>0.04692</td>\n",
       "      <td>0.01004</td>\n",
       "      <td>0.03527</td>\n",
       "      <td>0.09187</td>\n",
       "      <td>0.03380</td>\n",
       "      <td>-0.03528</td>\n",
       "    </tr>\n",
       "    <tr>\n",
       "      <td>2013-05-01 17:00:00</td>\n",
       "      <td>0.0</td>\n",
       "      <td>0.03761</td>\n",
       "      <td>0.03218</td>\n",
       "      <td>0.01642</td>\n",
       "      <td>0.00059</td>\n",
       "      <td>-0.07230</td>\n",
       "      <td>-0.03770</td>\n",
       "      <td>-0.06455</td>\n",
       "      <td>-0.13372</td>\n",
       "    </tr>\n",
       "    <tr>\n",
       "      <td>2013-05-01 18:00:00</td>\n",
       "      <td>0.0</td>\n",
       "      <td>0.03689</td>\n",
       "      <td>0.10482</td>\n",
       "      <td>0.14188</td>\n",
       "      <td>0.08435</td>\n",
       "      <td>0.05884</td>\n",
       "      <td>0.08187</td>\n",
       "      <td>0.05118</td>\n",
       "      <td>0.00880</td>\n",
       "    </tr>\n",
       "  </tbody>\n",
       "</table>\n",
       "</div>"
      ],
      "text/plain": [
       "                     2.5      2.2      1.9      1.6      1.3        1  \\\n",
       "TIMESTAMP                                                               \n",
       "2013-05-01 14:00:00  0.0  0.05250  0.05956 -0.01381 -0.02104 -0.03476   \n",
       "2013-05-01 15:00:00  0.0  0.08976  0.14507  0.11240  0.06926  0.07962   \n",
       "2013-05-01 16:00:00  0.0  0.03456  0.07399  0.04692  0.01004  0.03527   \n",
       "2013-05-01 17:00:00  0.0  0.03761  0.03218  0.01642  0.00059 -0.07230   \n",
       "2013-05-01 18:00:00  0.0  0.03689  0.10482  0.14188  0.08435  0.05884   \n",
       "\n",
       "                         0.7      0.4      0.1  \n",
       "TIMESTAMP                                       \n",
       "2013-05-01 14:00:00 -0.04653 -0.06661 -0.02817  \n",
       "2013-05-01 15:00:00  0.10925  0.13041  0.17957  \n",
       "2013-05-01 16:00:00  0.09187  0.03380 -0.03528  \n",
       "2013-05-01 17:00:00 -0.03770 -0.06455 -0.13372  \n",
       "2013-05-01 18:00:00  0.08187  0.05118  0.00880  "
      ]
     },
     "execution_count": 38,
     "metadata": {},
     "output_type": "execute_result"
    }
   ],
   "source": [
    "parse = lambda x: datetime.strptime(x,\"%d/%m/%y %H:%M\")\n",
    "data = pd.read_csv('saa_data_eastern_horizontal_displacement.csv',\n",
    "                  parse_dates = True, index_col=0, date_parser=parse,\n",
    "                  low_memory = False)\n",
    "\n",
    "data.head()"
   ]
  },
  {
   "cell_type": "code",
   "execution_count": 39,
   "metadata": {},
   "outputs": [],
   "source": [
    "df=data.drop(['2.5', '2.2','1.9', '1.6','1.3','1','0.7','0.4'], axis=1)"
   ]
  },
  {
   "cell_type": "code",
   "execution_count": 40,
   "metadata": {},
   "outputs": [
    {
     "data": {
      "text/html": [
       "<div>\n",
       "<style scoped>\n",
       "    .dataframe tbody tr th:only-of-type {\n",
       "        vertical-align: middle;\n",
       "    }\n",
       "\n",
       "    .dataframe tbody tr th {\n",
       "        vertical-align: top;\n",
       "    }\n",
       "\n",
       "    .dataframe thead th {\n",
       "        text-align: right;\n",
       "    }\n",
       "</style>\n",
       "<table border=\"1\" class=\"dataframe\">\n",
       "  <thead>\n",
       "    <tr style=\"text-align: right;\">\n",
       "      <th></th>\n",
       "      <th>0.1</th>\n",
       "    </tr>\n",
       "    <tr>\n",
       "      <th>TIMESTAMP</th>\n",
       "      <th></th>\n",
       "    </tr>\n",
       "  </thead>\n",
       "  <tbody>\n",
       "    <tr>\n",
       "      <td>2013-05-01 14:00:00</td>\n",
       "      <td>-0.02817</td>\n",
       "    </tr>\n",
       "    <tr>\n",
       "      <td>2013-05-01 15:00:00</td>\n",
       "      <td>0.17957</td>\n",
       "    </tr>\n",
       "    <tr>\n",
       "      <td>2013-05-01 16:00:00</td>\n",
       "      <td>-0.03528</td>\n",
       "    </tr>\n",
       "    <tr>\n",
       "      <td>2013-05-01 17:00:00</td>\n",
       "      <td>-0.13372</td>\n",
       "    </tr>\n",
       "    <tr>\n",
       "      <td>2013-05-01 18:00:00</td>\n",
       "      <td>0.00880</td>\n",
       "    </tr>\n",
       "  </tbody>\n",
       "</table>\n",
       "</div>"
      ],
      "text/plain": [
       "                         0.1\n",
       "TIMESTAMP                   \n",
       "2013-05-01 14:00:00 -0.02817\n",
       "2013-05-01 15:00:00  0.17957\n",
       "2013-05-01 16:00:00 -0.03528\n",
       "2013-05-01 17:00:00 -0.13372\n",
       "2013-05-01 18:00:00  0.00880"
      ]
     },
     "execution_count": 40,
     "metadata": {},
     "output_type": "execute_result"
    }
   ],
   "source": [
    "df.head()"
   ]
  },
  {
   "cell_type": "code",
   "execution_count": 41,
   "metadata": {},
   "outputs": [
    {
     "data": {
      "text/plain": [
       "(65570, 1)"
      ]
     },
     "execution_count": 41,
     "metadata": {},
     "output_type": "execute_result"
    }
   ],
   "source": [
    "df.shape\n"
   ]
  },
  {
   "cell_type": "code",
   "execution_count": 42,
   "metadata": {},
   "outputs": [
    {
     "data": {
      "text/plain": [
       "0.1    15845\n",
       "dtype: int64"
      ]
     },
     "execution_count": 42,
     "metadata": {},
     "output_type": "execute_result"
    }
   ],
   "source": [
    "df.isnull().sum()"
   ]
  },
  {
   "cell_type": "code",
   "execution_count": 43,
   "metadata": {},
   "outputs": [
    {
     "name": "stdout",
     "output_type": "stream",
     "text": [
      "                            0.1\n",
      "TIMESTAMP                      \n",
      "2013-05-01 14:00:00   -0.028170\n",
      "2013-05-01 15:00:00    0.179570\n",
      "2013-05-01 16:00:00   -0.035280\n",
      "2013-05-01 17:00:00   -0.133720\n",
      "2013-05-01 18:00:00    0.008800\n",
      "...                         ...\n",
      "2020-10-23 11:00:00  574.179135\n",
      "2020-10-23 12:00:00  574.320855\n",
      "2020-10-23 13:00:00  574.198265\n",
      "2020-10-23 14:00:00  574.184705\n",
      "2020-10-23 15:00:00  574.457655\n",
      "\n",
      "[65570 rows x 1 columns]\n"
     ]
    }
   ],
   "source": [
    "df = df.interpolate(method='linear',limit_direction ='backward')\n"
   ]
  },
  {
   "cell_type": "code",
   "execution_count": 56,
   "metadata": {},
   "outputs": [
    {
     "data": {
      "text/html": [
       "<div>\n",
       "<style scoped>\n",
       "    .dataframe tbody tr th:only-of-type {\n",
       "        vertical-align: middle;\n",
       "    }\n",
       "\n",
       "    .dataframe tbody tr th {\n",
       "        vertical-align: top;\n",
       "    }\n",
       "\n",
       "    .dataframe thead th {\n",
       "        text-align: right;\n",
       "    }\n",
       "</style>\n",
       "<table border=\"1\" class=\"dataframe\">\n",
       "  <thead>\n",
       "    <tr style=\"text-align: right;\">\n",
       "      <th></th>\n",
       "      <th>0.1</th>\n",
       "    </tr>\n",
       "    <tr>\n",
       "      <th>TIMESTAMP</th>\n",
       "      <th></th>\n",
       "    </tr>\n",
       "  </thead>\n",
       "  <tbody>\n",
       "    <tr>\n",
       "      <td>2013-05-01 14:00:00</td>\n",
       "      <td>-0.02817</td>\n",
       "    </tr>\n",
       "    <tr>\n",
       "      <td>2013-05-01 15:00:00</td>\n",
       "      <td>0.17957</td>\n",
       "    </tr>\n",
       "    <tr>\n",
       "      <td>2013-05-01 16:00:00</td>\n",
       "      <td>-0.03528</td>\n",
       "    </tr>\n",
       "    <tr>\n",
       "      <td>2013-05-01 17:00:00</td>\n",
       "      <td>-0.13372</td>\n",
       "    </tr>\n",
       "    <tr>\n",
       "      <td>2013-05-01 18:00:00</td>\n",
       "      <td>0.00880</td>\n",
       "    </tr>\n",
       "  </tbody>\n",
       "</table>\n",
       "</div>"
      ],
      "text/plain": [
       "                         0.1\n",
       "TIMESTAMP                   \n",
       "2013-05-01 14:00:00 -0.02817\n",
       "2013-05-01 15:00:00  0.17957\n",
       "2013-05-01 16:00:00 -0.03528\n",
       "2013-05-01 17:00:00 -0.13372\n",
       "2013-05-01 18:00:00  0.00880"
      ]
     },
     "execution_count": 56,
     "metadata": {},
     "output_type": "execute_result"
    }
   ],
   "source": [
    "df.head()"
   ]
  },
  {
   "cell_type": "code",
   "execution_count": 44,
   "metadata": {},
   "outputs": [
    {
     "data": {
      "text/plain": [
       "0.1    0\n",
       "dtype: int64"
      ]
     },
     "execution_count": 44,
     "metadata": {},
     "output_type": "execute_result"
    }
   ],
   "source": [
    "df.isnull().sum()"
   ]
  },
  {
   "cell_type": "code",
   "execution_count": 89,
   "metadata": {},
   "outputs": [
    {
     "data": {
      "text/plain": [
       "[<matplotlib.lines.Line2D at 0x7fe3ff14e350>]"
      ]
     },
     "execution_count": 89,
     "metadata": {},
     "output_type": "execute_result"
    },
    {
     "data": {
      "image/png": "[encoded data removed]",
      "text/plain": [
       "<Figure size 432x288 with 1 Axes>"
      ]
     },
     "metadata": {
      "needs_background": "light"
     },
     "output_type": "display_data"
    }
   ],
   "source": [
    "\n",
    "plt.xlabel('TIMESTAMP')\n",
    "plt.ylabel('SENSORDATA')\n",
    "plt.plot(df)\n",
    "\n"
   ]
  },
  {
   "cell_type": "code",
   "execution_count": 46,
   "metadata": {},
   "outputs": [
    {
     "data": {
      "image/png": "[encoded data removed]",
      "text/plain": [
       "<Figure size 432x288 with 1 Axes>"
      ]
     },
     "metadata": {
      "needs_background": "light"
     },
     "output_type": "display_data"
    }
   ],
   "source": [
    "rolling_mean = df.rolling(window = 8640).mean()\n",
    "rolling_std = df.rolling(window = 8640).std()\n",
    "plt.plot(df, color = 'blue', label = 'Original')\n",
    "plt.plot(rolling_mean, color = 'red', label = 'Rolling Mean')\n",
    "plt.plot(rolling_std, color = 'black', label = 'Rolling Std')\n",
    "plt.legend(loc = 'best')\n",
    "plt.title('Rolling Mean & Rolling Standard Deviation')\n",
    "plt.show()"
   ]
  },
  {
   "cell_type": "code",
   "execution_count": 47,
   "metadata": {},
   "outputs": [
    {
     "name": "stdout",
     "output_type": "stream",
     "text": [
      "ADF Statistic: 0.0303367878624089\n",
      "p-value: 0.9609701585672213\n",
      "Critical Values:\n",
      "\t1%: -3.4304498283608416\n",
      "\t5%: -2.861584122315483\n",
      "\t10%: -2.5667934848091876\n"
     ]
    }
   ],
   "source": [
    "result = adfuller(df['0.1'])\n",
    "print('ADF Statistic: {}'.format(result[0]))\n",
    "print('p-value: {}'.format(result[1]))\n",
    "print('Critical Values:')\n",
    "for key, value in result[4].items():\n",
    "    print('\\t{}: {}'.format(key, value))"
   ]
  },
  {
   "cell_type": "code",
   "execution_count": 15,
   "metadata": {},
   "outputs": [],
   "source": [
    "##  p-value is greater than the threshold (0.05). Thus, we can conclude that the time series is not stationary."
   ]
  },
  {
   "cell_type": "code",
   "execution_count": 109,
   "metadata": {},
   "outputs": [
    {
     "data": {
      "text/plain": [
       "[<matplotlib.lines.Line2D at 0x7fe34717afd0>]"
      ]
     },
     "execution_count": 109,
     "metadata": {},
     "output_type": "execute_result"
    },
    {
     "data": {
      "image/png": "[encoded data removed]",
      "text/plain": [
       "<Figure size 432x288 with 1 Axes>"
      ]
     },
     "metadata": {
      "needs_background": "light"
     },
     "output_type": "display_data"
    }
   ],
   "source": [
    "df_log = np.log(df)\n",
    "plt.plot(df_log)"
   ]
  },
  {
   "cell_type": "code",
   "execution_count": 112,
   "metadata": {},
   "outputs": [
    {
     "data": {
      "text/plain": [
       "0.1    1758\n",
       "dtype: int64"
      ]
     },
     "execution_count": 112,
     "metadata": {},
     "output_type": "execute_result"
    }
   ],
   "source": [
    "df_log.isnull().sum()"
   ]
  },
  {
   "cell_type": "code",
   "execution_count": 18,
   "metadata": {},
   "outputs": [],
   "source": [
    "#df_log=df_log.dropna()"
   ]
  },
  {
   "cell_type": "code",
   "execution_count": 113,
   "metadata": {},
   "outputs": [
    {
     "name": "stdout",
     "output_type": "stream",
     "text": [
      "                          0.1\n",
      "TIMESTAMP                    \n",
      "2013-05-01 14:00:00 -1.717190\n",
      "2013-05-01 15:00:00 -1.717190\n",
      "2013-05-01 16:00:00 -2.722461\n",
      "2013-05-01 17:00:00 -3.727732\n",
      "2013-05-01 18:00:00 -4.733004\n",
      "...                       ...\n",
      "2020-10-23 11:00:00  6.352941\n",
      "2020-10-23 12:00:00  6.353188\n",
      "2020-10-23 13:00:00  6.352975\n",
      "2020-10-23 14:00:00  6.352951\n",
      "2020-10-23 15:00:00  6.353426\n",
      "\n",
      "[65570 rows x 1 columns]\n"
     ]
    }
   ],
   "source": [
    "df_log = df_log.interpolate(method='linear',limit_direction ='backward')\n",
    "print(df_log)"
   ]
  },
  {
   "cell_type": "code",
   "execution_count": 51,
   "metadata": {},
   "outputs": [],
   "source": [
    "def get_stationarity(timeseries):\n",
    "    \n",
    "    # rolling statistics\n",
    "    rolling_mean = timeseries.rolling(window=8640).mean()\n",
    "    rolling_std = timeseries.rolling(window=8640).std()\n",
    "    \n",
    "    # rolling statistics plot\n",
    "    original = plt.plot(timeseries, color='blue', label='Original')\n",
    "    mean = plt.plot(rolling_mean, color='red', label='Rolling Mean')\n",
    "    std = plt.plot(rolling_std, color='black', label='Rolling Std')\n",
    "    plt.legend(loc='best')\n",
    "    plt.title('Rolling Mean & Standard Deviation')\n",
    "    plt.show(block=False)\n",
    "    \n",
    "    # Dickey–Fuller test:\n",
    "    result = adfuller(timeseries['0.1'])\n",
    "    print('ADF Statistic: {}'.format(result[0]))\n",
    "    print('p-value: {}'.format(result[1]))\n",
    "    print('Critical Values:')\n",
    "    for key, value in result[4].items():\n",
    "        print('\\t{}: {}'.format(key, value))"
   ]
  },
  {
   "cell_type": "code",
   "execution_count": 21,
   "metadata": {},
   "outputs": [],
   "source": [
    "## Subtract the rolling mean"
   ]
  },
  {
   "cell_type": "code",
   "execution_count": 52,
   "metadata": {},
   "outputs": [
    {
     "data": {
      "image/png": "[encoded data removed]",
      "text/plain": [
       "<Figure size 432x288 with 1 Axes>"
      ]
     },
     "metadata": {
      "needs_background": "light"
     },
     "output_type": "display_data"
    },
    {
     "name": "stdout",
     "output_type": "stream",
     "text": [
      "ADF Statistic: -13.465318247786591\n",
      "p-value: 3.465641358707866e-25\n",
      "Critical Values:\n",
      "\t1%: -3.4304649879585485\n",
      "\t5%: -2.8615908224514746\n",
      "\t10%: -2.5667970510865032\n"
     ]
    }
   ],
   "source": [
    "rolling_mean = df_log.rolling(window=8640).mean()\n",
    "df_log_minus_mean = df_log - rolling_mean\n",
    "df_log_minus_mean.dropna(inplace=True)\n",
    "get_stationarity(df_log_minus_mean)"
   ]
  },
  {
   "cell_type": "code",
   "execution_count": 53,
   "metadata": {},
   "outputs": [
    {
     "data": {
      "image/png": "[encoded data removed]",
      "text/plain": [
       "<Figure size 432x288 with 1 Axes>"
      ]
     },
     "metadata": {
      "needs_background": "light"
     },
     "output_type": "display_data"
    },
    {
     "name": "stdout",
     "output_type": "stream",
     "text": [
      "ADF Statistic: -2.8256214525463332\n",
      "p-value: 0.054706101688623505\n",
      "Critical Values:\n",
      "\t1%: -3.430449826836894\n",
      "\t5%: -2.8615841216419375\n",
      "\t10%: -2.56679348445068\n"
     ]
    }
   ],
   "source": [
    "rolling_mean_exp_decay = df_log.ewm(halflife=8640, min_periods=0, adjust=True).mean()\n",
    "df_log_exp_decay = df_log - rolling_mean_exp_decay\n",
    "df_log_exp_decay.dropna(inplace=True)\n",
    "get_stationarity(df_log_exp_decay)"
   ]
  },
  {
   "cell_type": "code",
   "execution_count": 54,
   "metadata": {},
   "outputs": [
    {
     "data": {
      "image/png": "[encoded data removed]",
      "text/plain": [
       "<Figure size 432x288 with 1 Axes>"
      ]
     },
     "metadata": {
      "needs_background": "light"
     },
     "output_type": "display_data"
    },
    {
     "name": "stdout",
     "output_type": "stream",
     "text": [
      "ADF Statistic: -34.772457080485005\n",
      "p-value: 0.0\n",
      "Critical Values:\n",
      "\t1%: -3.4304498298848354\n",
      "\t5%: -2.8615841229890493\n",
      "\t10%: -2.566793485167706\n"
     ]
    }
   ],
   "source": [
    "df_log_shift = df_log - df_log.shift()\n",
    "df_log_shift.dropna(inplace=True)\n",
    "get_stationarity(df_log_shift)"
   ]
  },
  {
   "cell_type": "code",
   "execution_count": null,
   "metadata": {},
   "outputs": [],
   "source": [
    "################## on Non-Stattionary Data ##################"
   ]
  },
  {
   "cell_type": "code",
   "execution_count": 102,
   "metadata": {},
   "outputs": [
    {
     "data": {
      "text/plain": [
       "<matplotlib.axes._subplots.AxesSubplot at 0x7fe38084f290>"
      ]
     },
     "execution_count": 102,
     "metadata": {},
     "output_type": "execute_result"
    },
    {
     "data": {
      "image/png": "[encoded data removed]",
      "text/plain": [
       "<Figure size 432x288 with 1 Axes>"
      ]
     },
     "metadata": {
      "needs_background": "light"
     },
     "output_type": "display_data"
    }
   ],
   "source": [
    "\n",
    "\n",
    "#train = df[:int(0.5*(len(df)))]\n",
    "#valid = df[int(0.5*(len(df))):]\n",
    "\n",
    "\n",
    "\n",
    "#plotting the data\n",
    "df['0.1'].plot()\n",
    "#valid['0.1'].plot()"
   ]
  },
  {
   "cell_type": "code",
   "execution_count": 63,
   "metadata": {},
   "outputs": [],
   "source": [
    "from pmdarima.arima import auto_arima"
   ]
  },
  {
   "cell_type": "code",
   "execution_count": null,
   "metadata": {},
   "outputs": [],
   "source": []
  },
  {
   "cell_type": "code",
   "execution_count": 97,
   "metadata": {},
   "outputs": [
    {
     "name": "stdout",
     "output_type": "stream",
     "text": [
      "Performing stepwise search to minimize aic\n",
      " ARIMA(2,2,2)(0,0,0)[0]             : AIC=-5577.602, Time=24.61 sec\n",
      " ARIMA(0,2,0)(0,0,0)[0]             : AIC=47421.356, Time=1.15 sec\n",
      " ARIMA(1,2,0)(0,0,0)[0]             : AIC=24545.843, Time=2.31 sec\n",
      " ARIMA(0,2,1)(0,0,0)[0]             : AIC=inf, Time=4.15 sec\n",
      " ARIMA(1,2,2)(0,0,0)[0]             : AIC=-5579.598, Time=12.34 sec\n",
      " ARIMA(0,2,2)(0,0,0)[0]             : AIC=-5522.780, Time=7.16 sec\n",
      " ARIMA(1,2,1)(0,0,0)[0]             : AIC=-5456.848, Time=6.00 sec\n",
      " ARIMA(1,2,3)(0,0,0)[0]             : AIC=-5521.006, Time=13.53 sec\n",
      " ARIMA(0,2,3)(0,0,0)[0]             : AIC=-5572.797, Time=10.98 sec\n",
      " ARIMA(2,2,1)(0,0,0)[0]             : AIC=-5551.883, Time=11.02 sec\n",
      " ARIMA(2,2,3)(0,0,0)[0]             : AIC=-5576.909, Time=19.36 sec\n",
      " ARIMA(1,2,2)(0,0,0)[0] intercept   : AIC=-4772.863, Time=46.29 sec\n",
      "\n",
      "Best model:  ARIMA(1,2,2)(0,0,0)[0]          \n",
      "Total fit time: 158.926 seconds\n"
     ]
    },
    {
     "data": {
      "text/plain": [
       "ARIMA(maxiter=50, method='lbfgs', order=(1, 2, 2), out_of_sample_size=0,\n",
       "      scoring='mse', scoring_args={}, seasonal_order=(0, 0, 0, 0),\n",
       "      start_params=None, suppress_warnings=True, trend=None,\n",
       "      with_intercept=False)"
      ]
     },
     "execution_count": 97,
     "metadata": {},
     "output_type": "execute_result"
    }
   ],
   "source": [
    "\n",
    "model = auto_arima(df['0.1'], trace=True, error_action='ignore', suppress_warnings=True)\n",
    "model.fit(df['0.1'])\n"
   ]
  },
  {
   "cell_type": "code",
   "execution_count": 99,
   "metadata": {},
   "outputs": [],
   "source": [
    "\n",
    "forecast = model.predict(n_periods=len(df['0.1']))\n",
    "\n",
    "forecast = pd.DataFrame(forecast,index = df.index,columns=['Prediction'])\n",
    "\n",
    "\n",
    "#plot the predictions for validation set\n"
   ]
  },
  {
   "cell_type": "code",
   "execution_count": 103,
   "metadata": {},
   "outputs": [
    {
     "data": {
      "image/png": "[encoded data removed]",
      "text/plain": [
       "<Figure size 432x288 with 1 Axes>"
      ]
     },
     "metadata": {
      "needs_background": "light"
     },
     "output_type": "display_data"
    }
   ],
   "source": [
    "plt.plot(df, label='Train')\n",
    "\n",
    "plt.plot(forecast, label='Prediction')\n",
    "plt.show()"
   ]
  },
  {
   "cell_type": "code",
   "execution_count": 104,
   "metadata": {},
   "outputs": [
    {
     "name": "stdout",
     "output_type": "stream",
     "text": [
      "405.0572865685575\n"
     ]
    }
   ],
   "source": [
    "#calculate rmse\n",
    "from math import sqrt\n",
    "from sklearn.metrics import mean_squared_error\n",
    "\n",
    "rms = sqrt(mean_squared_error(df,forecast))\n",
    "print(rms)"
   ]
  },
  {
   "cell_type": "code",
   "execution_count": null,
   "metadata": {},
   "outputs": [],
   "source": [
    "\n",
    "#####################  STATIONARY DATA with log ##################\n"
   ]
  },
  {
   "cell_type": "code",
   "execution_count": 110,
   "metadata": {},
   "outputs": [
    {
     "data": {
      "text/plain": [
       "<matplotlib.axes._subplots.AxesSubplot at 0x7fe3471c0110>"
      ]
     },
     "execution_count": 110,
     "metadata": {},
     "output_type": "execute_result"
    },
    {
     "data": {
      "image/png": "[encoded data removed]",
      "text/plain": [
       "<Figure size 432x288 with 1 Axes>"
      ]
     },
     "metadata": {
      "needs_background": "light"
     },
     "output_type": "display_data"
    }
   ],
   "source": [
    "\n",
    "\n",
    "\n",
    "\n",
    "\n",
    "\n",
    "\n",
    "#plotting the data\n",
    "\n",
    "df_log.plot()"
   ]
  },
  {
   "cell_type": "code",
   "execution_count": null,
   "metadata": {},
   "outputs": [
    {
     "name": "stdout",
     "output_type": "stream",
     "text": [
      "Performing stepwise search to minimize aic\n",
      " ARIMA(2,1,2)(0,0,0)[0] intercept   : AIC=-191847.961, Time=82.27 sec\n",
      " ARIMA(0,1,0)(0,0,0)[0] intercept   : AIC=-181140.179, Time=5.79 sec\n",
      " ARIMA(1,1,0)(0,0,0)[0] intercept   : AIC=-189210.985, Time=6.00 sec\n",
      " ARIMA(0,1,1)(0,0,0)[0] intercept   : AIC=-191562.528, Time=17.39 sec\n",
      " ARIMA(0,1,0)(0,0,0)[0]             : AIC=-181141.910, Time=1.89 sec\n",
      " ARIMA(1,1,2)(0,0,0)[0] intercept   : AIC=-191571.781, Time=43.23 sec\n",
      " ARIMA(2,1,1)(0,0,0)[0] intercept   : AIC=-191785.237, Time=41.97 sec\n",
      " ARIMA(3,1,2)(0,0,0)[0] intercept   : AIC=-192023.339, Time=80.83 sec\n",
      " ARIMA(3,1,1)(0,0,0)[0] intercept   : AIC=-191901.088, Time=71.75 sec\n",
      " ARIMA(4,1,2)(0,0,0)[0] intercept   : AIC=-191939.634, Time=88.94 sec\n",
      " ARIMA(3,1,3)(0,0,0)[0] intercept   : AIC=-192094.012, Time=92.99 sec\n",
      " ARIMA(2,1,3)(0,0,0)[0] intercept   : AIC=-192168.247, Time=82.13 sec\n",
      " ARIMA(1,1,3)(0,0,0)[0] intercept   : AIC=-191780.548, Time=109.29 sec\n",
      " ARIMA(2,1,4)(0,0,0)[0] intercept   : AIC=-192057.160, Time=90.29 sec\n"
     ]
    }
   ],
   "source": [
    "#building the model\n",
    "#from pyramid.arima import auto_arima\n",
    "model = auto_arima(df_log['0.1'], trace=True, error_action='ignore', suppress_warnings=True)\n",
    "model.fit(df_log['0.1'])"
   ]
  },
  {
   "cell_type": "code",
   "execution_count": null,
   "metadata": {},
   "outputs": [],
   "source": [
    "forecastlog = model.predict(n_periods=len(df_log['0.1']))\n",
    "\n",
    "#predictions_ARIMA = np.exp(forecast) \n",
    "\n",
    "forecastlog = pd.DataFrame(forecast,index = df_log.i,columns=['Prediction'])\n",
    "\n",
    "\n",
    "#plot the predictions for validation set"
   ]
  },
  {
   "cell_type": "code",
   "execution_count": null,
   "metadata": {},
   "outputs": [],
   "source": [
    "plt.plot(df_log, label='Train')\n",
    "\n",
    "plt.plot(forecast, label='Prediction')\n",
    "plt.show()"
   ]
  },
  {
   "cell_type": "code",
   "execution_count": null,
   "metadata": {},
   "outputs": [],
   "source": []
  },
  {
   "cell_type": "code",
   "execution_count": null,
   "metadata": {},
   "outputs": [],
   "source": [
    "######### Stationary data with exponential log ############"
   ]
  },
  {
   "cell_type": "code",
   "execution_count": null,
   "metadata": {},
   "outputs": [],
   "source": [
    "df_log_exp_decay.plot()"
   ]
  },
  {
   "cell_type": "code",
   "execution_count": null,
   "metadata": {},
   "outputs": [],
   "source": [
    "\n",
    "model = auto_arima(df_log_exp_decay['0.1'], trace=True, error_action='ignore', suppress_warnings=True)\n",
    "model.fit(df_log_exp_decay['0.1'])"
   ]
  },
  {
   "cell_type": "code",
   "execution_count": null,
   "metadata": {},
   "outputs": [],
   "source": [
    "forecastlogdecay = model.predict(n_periods=len(df_log_exp_decay['0.1']))\n",
    "\n",
    "forecastlogdecay = pd.DataFrame(forecastlogdecay,index = df_log_exp_decay.index,columns=['Prediction'])\n"
   ]
  },
  {
   "cell_type": "code",
   "execution_count": null,
   "metadata": {},
   "outputs": [],
   "source": [
    "plt.plot(df_log_exp_decay, label='Train')\n",
    "\n",
    "plt.plot(forecastlogdecay, label='Prediction')\n",
    "plt.show()"
   ]
  },
  {
   "cell_type": "code",
   "execution_count": null,
   "metadata": {},
   "outputs": [],
   "source": []
  }
 ],
 "metadata": {
  "kernelspec": {
   "display_name": "Python 3",
   "language": "python",
   "name": "python3"
  },
  "language_info": {
   "codemirror_mode": {
    "name": "ipython",
    "version": 3
   },
   "file_extension": ".py",
   "mimetype": "text/x-python",
   "name": "python",
   "nbconvert_exporter": "python",
   "pygments_lexer": "ipython3",
   "version": "3.7.4"
  }
 },
 "nbformat": 4,
 "nbformat_minor": 2
}
